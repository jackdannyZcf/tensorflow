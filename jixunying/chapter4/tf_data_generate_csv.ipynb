{
 "cells": [
  {
   "cell_type": "code",
   "execution_count": 1,
   "metadata": {},
   "outputs": [
    {
     "name": "stdout",
     "output_type": "stream",
     "text": [
      "2.0.0-alpha0\n",
      "sys.version_info(major=3, minor=6, micro=8, releaselevel='final', serial=0)\n",
      "matplotlib 3.1.1\n",
      "numpy 1.16.2\n",
      "pandas 0.25.0\n",
      "sklearn 0.21.3\n",
      "tensorflow 2.0.0-alpha0\n",
      "tensorflow.python.keras.api._v2.keras 2.2.4-tf\n"
     ]
    }
   ],
   "source": [
    "import matplotlib as mpl\n",
    "import matplotlib.pyplot as plt\n",
    "%matplotlib inline\n",
    "import numpy as np\n",
    "import sklearn\n",
    "import pandas as pd\n",
    "import os\n",
    "import sys\n",
    "import time\n",
    "import tensorflow as tf\n",
    "\n",
    "from tensorflow import keras\n",
    "\n",
    "print(tf.__version__)\n",
    "print(sys.version_info)\n",
    "for module in mpl, np, pd, sklearn, tf, keras:\n",
    "    print(module.__name__, module.__version__)"
   ]
  },
  {
   "cell_type": "code",
   "execution_count": 2,
   "metadata": {},
   "outputs": [],
   "source": [
    "from sklearn.datasets import fetch_california_housing\n",
    "\n",
    "housing = fetch_california_housing()\n"
   ]
  },
  {
   "cell_type": "code",
   "execution_count": 3,
   "metadata": {},
   "outputs": [
    {
     "name": "stdout",
     "output_type": "stream",
     "text": [
      "(11610, 8) (11610,)\n",
      "(3870, 8) (3870,)\n",
      "(5160, 8) (5160,)\n"
     ]
    }
   ],
   "source": [
    "from sklearn.model_selection import train_test_split\n",
    "\n",
    "x_train_all, x_test, y_train_all, y_test = train_test_split(\n",
    "    housing.data, housing.target, random_state = 7)\n",
    "x_train, x_valid, y_train, y_valid = train_test_split(\n",
    "    x_train_all, y_train_all, random_state = 11)\n",
    "print(x_train.shape, y_train.shape)\n",
    "print(x_valid.shape, y_valid.shape)\n",
    "print(x_test.shape, y_test.shape)"
   ]
  },
  {
   "cell_type": "code",
   "execution_count": 4,
   "metadata": {},
   "outputs": [],
   "source": [
    "from sklearn.preprocessing import StandardScaler\n",
    "\n",
    "scaler = StandardScaler()\n",
    "x_train_scaled = scaler.fit_transform(x_train)\n",
    "x_valid_scaled = scaler.transform(x_valid)\n",
    "x_test_scaled = scaler.transform(x_test)\n"
   ]
  },
  {
   "cell_type": "code",
   "execution_count": 5,
   "metadata": {},
   "outputs": [],
   "source": [
    "output_dir = \"generate_csv\"\n",
    "if not os.path.exists(output_dir):\n",
    "    os.mkdir(output_dir)\n",
    "    \n",
    "def save_to_csv(output_dir, data, name_prefix, header=None, n_parts=10):\n",
    "    path_format = os.path.join(output_dir, \"{}_{:02d}.csv\")\n",
    "    filenames = []\n",
    "    \n",
    "    for file_idx, row_indices in enumerate(\n",
    "            np.array_split(np.arange(len(data)), n_parts)):\n",
    "        part_csv = path_format.format(name_prefix, file_idx)\n",
    "        filenames.append(part_csv)\n",
    "        with open(part_csv, \"wt\", encoding=\"utf-8\") as f:\n",
    "            if header is not None:\n",
    "                f.write(header + \"\\n\")\n",
    "            for row_index in row_indices:\n",
    "                f.write(\",\".join([repr(col) for col in data[row_index]]))\n",
    "                f.write('\\n')\n",
    "    return filenames\n",
    "\n",
    "train_data = np.c_[x_train_scaled, y_train]\n",
    "valid_data = np.c_[x_valid_scaled, y_valid]\n",
    "test_data = np.c_[x_test_scaled, y_test]\n",
    "header_cols = housing.feature_names + [\"MidianHouseValue\"]\n",
    "header_str = \",\".join(header_cols)\n",
    "\n",
    "train_filenames = save_to_csv(output_dir, train_data, \"train\", header_str, n_parts=20)\n",
    "valid_filenames = save_to_csv(output_dir, valid_data, \"valid\", header_str, n_parts=10)\n",
    "test_filenames = save_to_csv(output_dir, test_data, \"test\", header_str, n_parts=10)"
   ]
  },
  {
   "cell_type": "code",
   "execution_count": 7,
   "metadata": {},
   "outputs": [
    {
     "name": "stdout",
     "output_type": "stream",
     "text": [
      "tf.Tensor(b'generate_csv/train_07.csv', shape=(), dtype=string)\n",
      "tf.Tensor(b'generate_csv/train_19.csv', shape=(), dtype=string)\n",
      "tf.Tensor(b'generate_csv/train_18.csv', shape=(), dtype=string)\n",
      "tf.Tensor(b'generate_csv/train_15.csv', shape=(), dtype=string)\n",
      "tf.Tensor(b'generate_csv/train_16.csv', shape=(), dtype=string)\n",
      "tf.Tensor(b'generate_csv/train_10.csv', shape=(), dtype=string)\n",
      "tf.Tensor(b'generate_csv/train_09.csv', shape=(), dtype=string)\n",
      "tf.Tensor(b'generate_csv/train_03.csv', shape=(), dtype=string)\n",
      "tf.Tensor(b'generate_csv/train_08.csv', shape=(), dtype=string)\n",
      "tf.Tensor(b'generate_csv/train_05.csv', shape=(), dtype=string)\n",
      "tf.Tensor(b'generate_csv/train_02.csv', shape=(), dtype=string)\n",
      "tf.Tensor(b'generate_csv/train_04.csv', shape=(), dtype=string)\n",
      "tf.Tensor(b'generate_csv/train_01.csv', shape=(), dtype=string)\n",
      "tf.Tensor(b'generate_csv/train_06.csv', shape=(), dtype=string)\n",
      "tf.Tensor(b'generate_csv/train_14.csv', shape=(), dtype=string)\n",
      "tf.Tensor(b'generate_csv/train_11.csv', shape=(), dtype=string)\n",
      "tf.Tensor(b'generate_csv/train_00.csv', shape=(), dtype=string)\n",
      "tf.Tensor(b'generate_csv/train_12.csv', shape=(), dtype=string)\n",
      "tf.Tensor(b'generate_csv/train_13.csv', shape=(), dtype=string)\n",
      "tf.Tensor(b'generate_csv/train_17.csv', shape=(), dtype=string)\n"
     ]
    }
   ],
   "source": [
    "filename_dataset = tf.data.Dataset.list_files(train_filenames)\n",
    "for filename in filename_dataset:\n",
    "    print(filename)"
   ]
  },
  {
   "cell_type": "code",
   "execution_count": 9,
   "metadata": {},
   "outputs": [
    {
     "name": "stdout",
     "output_type": "stream",
     "text": [
      "b'0.09734603446040174,0.7527628439249472,-0.20218964416999152,-0.1954700015215477,-0.4060513603629498,0.006785531677655949,-0.813715166526018,0.656614793197258,1.119'\n",
      "b'-1.4803330571456954,-0.6890414153725881,-0.35624704887282904,-0.1725588908792445,-0.8215884329530113,-0.1382309124854157,1.9157132913404298,-1.0211904224385344,0.928'\n",
      "b'0.21174628471128154,1.1532640270631513,-0.2507761334605016,-0.2564987121705146,-0.6473894854916754,0.017590216427099285,0.7959477701644521,-1.1510205879341566,1.935'\n",
      "b'-1.1664916626521322,0.6726626072973063,-0.5583206747658317,0.17064335435039116,-0.5866013111171469,-0.053949832270862016,-0.3471461993693604,1.2758048132533288,0.616'\n",
      "b'-0.5907072638579991,-1.6502442549042784,-0.11462618259062662,-0.006497285865722548,0.4812745282682295,-0.07270136882136606,1.010569495056515,-0.806471302580379,1.75'\n",
      "b'2.366275450474818,0.031860714276179515,0.5277562229741544,-0.08874241111281875,0.6854139198244824,-0.10424920030178002,-0.7110699937515539,0.5916997104494468,5.00001'\n",
      "b'1.4039173136414995,0.5925623706696654,0.15987873825269516,-0.19074492834351878,-0.27721672213633686,-0.046936874465896804,-0.762392580138786,0.561738903027378,4.058'\n",
      "b'0.027810717004697363,0.43236189741438374,-0.39923201539104664,-0.2698230398324183,-0.1828589589281133,-0.019404955481150996,-0.86503775291325,0.8563535093443789,1.875'\n",
      "b'-0.32380886911805706,0.27216142415910205,0.13483425211217914,0.15848607906014198,-0.43326994590378354,-0.02578848739233509,-0.5850963726192548,0.03243130523751367,3.46'\n",
      "b'-0.6175089992451405,0.5124621340420246,-0.42084194044594336,-0.12088241103934942,-0.6374093374600365,-0.10216248851187124,-1.3502694787561735,1.2158831984091911,1.594'\n",
      "b'-0.5872438189272552,-1.329843308393715,-0.047066451133365064,0.239270361271194,1.4393687393055765,-0.04839848410205781,-1.1356477538641108,1.1160138403356306,2.161'\n",
      "b'0.4615405898701651,-0.1283397589791022,0.4493578358471746,0.03364110490148386,-0.5040382683099512,0.04775187507162097,1.099217598816279,-0.6966150086994646,1.769'\n",
      "b'1.3992283420429539,-1.0094423618831516,0.6430247551385425,-0.2317899188531251,0.5783541500305365,0.018942296459263718,-0.7250670627662508,0.8613469772480595,2.639'\n",
      "b'-0.4099154384731671,-1.0094423618831516,0.02606897062687223,0.00914384044548297,-0.8197738605836223,-0.13931410894041824,1.3185050133799074,-1.5804588276504605,1.617'\n",
      "b'2.8294179633675265,1.1532640270631513,0.657967217553772,-0.13548259707636043,-0.30897173860064286,-0.06682073986323142,0.8379389772085495,-1.2758572855261054,5.00001'\n"
     ]
    }
   ],
   "source": [
    "n_readers = 1\n",
    "dataset = filename_dataset.interleave(\n",
    "    lambda filename: tf.data.TextLineDataset(filename).skip(1),\n",
    "    cycle_length = n_readers\n",
    ")\n",
    "for line in dataset.take(15):\n",
    "    print(line.numpy())"
   ]
  },
  {
   "cell_type": "code",
   "execution_count": 11,
   "metadata": {},
   "outputs": [
    {
     "name": "stdout",
     "output_type": "stream",
     "text": [
      "[<tf.Tensor: id=182, shape=(), dtype=int32, numpy=1>, <tf.Tensor: id=183, shape=(), dtype=int32, numpy=2>, <tf.Tensor: id=184, shape=(), dtype=float32, numpy=3.0>, <tf.Tensor: id=185, shape=(), dtype=string, numpy=b'4'>, <tf.Tensor: id=186, shape=(), dtype=float32, numpy=5.0>]\n"
     ]
    }
   ],
   "source": [
    "sample_str = '1,2,3,4,5'\n",
    "record_defaults = [\n",
    "    tf.constant(0, dtype=tf.int32),\n",
    "    0,\n",
    "    np.nan,\n",
    "    \"hello\",\n",
    "    tf.constant([])\n",
    "]\n",
    "parsed_fields = tf.io.decode_csv(sample_str, record_defaults)\n",
    "print(parsed_fields)"
   ]
  },
  {
   "cell_type": "code",
   "execution_count": 15,
   "metadata": {},
   "outputs": [
    {
     "data": {
      "text/plain": [
       "(<tf.Tensor: id=303, shape=(8,), dtype=float32, numpy=\n",
       " array([ 2.829418  ,  1.153264  ,  0.6579672 , -0.1354826 , -0.30897173,\n",
       "        -0.06682074,  0.83793896, -1.2758573 ], dtype=float32)>,\n",
       " <tf.Tensor: id=304, shape=(1,), dtype=float32, numpy=array([5.00001], dtype=float32)>)"
      ]
     },
     "execution_count": 15,
     "metadata": {},
     "output_type": "execute_result"
    }
   ],
   "source": [
    "def parse_csv_line(line, n_fields=9):\n",
    "    defs = [tf.constant(np.nan)] * n_fields\n",
    "    parsed_fields = tf.io.decode_csv(line, record_defaults=defs)\n",
    "    x = tf.stack(parsed_fields[0:-1])\n",
    "    y = tf.stack(parsed_fields[-1:])\n",
    "    return x, y\n",
    "\n",
    "parse_csv_line(b'2.8294179633675265,1.1532640270631513,0.657967217553772,-0.13548259707636043,-0.30897173860064286,-0.06682073986323142,0.8379389772085495,-1.2758572855261054,5.00001', n_fields=9)"
   ]
  },
  {
   "cell_type": "code",
   "execution_count": 16,
   "metadata": {},
   "outputs": [
    {
     "name": "stdout",
     "output_type": "stream",
     "text": [
      "x:\n",
      "<tf.Tensor: id=379, shape=(3, 8), dtype=float32, numpy=\n",
      "array([[-8.2195884e-01,  1.8741661e+00,  1.8212350e-01, -3.1700194e-02,\n",
      "        -6.0111791e-01, -1.4337493e-01,  1.0852206e+00, -8.6139947e-01],\n",
      "       [-3.2652634e-01,  4.3236190e-01, -9.3454592e-02, -8.4029920e-02,\n",
      "         8.4600359e-01, -2.6631648e-02, -5.6176794e-01,  1.4228760e-01],\n",
      "       [ 4.9710345e-02, -8.4924191e-01, -6.2146995e-02,  1.7878747e-01,\n",
      "        -8.0253541e-01,  5.0660671e-04,  6.4664572e-01, -1.1060793e+00]],\n",
      "      dtype=float32)>\n",
      "y:\n",
      "<tf.Tensor: id=380, shape=(3, 1), dtype=float32, numpy=\n",
      "array([[1.054],\n",
      "       [2.431],\n",
      "       [2.286]], dtype=float32)>\n",
      "x:\n",
      "<tf.Tensor: id=383, shape=(3, 8), dtype=float32, numpy=\n",
      "array([[ 2.5150437 ,  1.0731637 ,  0.5574401 , -0.17273512, -0.6129126 ,\n",
      "        -0.01909157, -0.5710993 , -0.02749031],\n",
      "       [ 0.63636464, -1.0895426 ,  0.09260903, -0.20538124,  1.2025671 ,\n",
      "        -0.03630123, -0.6784102 ,  0.18223535],\n",
      "       [-0.46794146, -0.92934215,  0.11909926, -0.06047011,  0.30344644,\n",
      "        -0.02185189,  1.8737221 , -1.0411643 ]], dtype=float32)>\n",
      "y:\n",
      "<tf.Tensor: id=384, shape=(3, 1), dtype=float32, numpy=\n",
      "array([[5.00001],\n",
      "       [2.429  ],\n",
      "       [1.012  ]], dtype=float32)>\n"
     ]
    }
   ],
   "source": [
    "import pprint\n",
    "def csv_reader_dataset(filenames, n_readers=5, batch_size=32, n_parse_threads=5,\n",
    "                       shuffle_buffer_size=10000):\n",
    "    dataset = tf.data.Dataset.list_files(filenames)\n",
    "    dataset = dataset.repeat()\n",
    "    dataset = dataset.interleave(\n",
    "        lambda filename: tf.data.TextLineDataset(filename).skip(1),\n",
    "        cycle_length = n_readers\n",
    "    )\n",
    "    dataset.shuffle(shuffle_buffer_size)\n",
    "    dataset = dataset.map(parse_csv_line, num_parallel_calls=n_parse_threads)\n",
    "    dataset = dataset.batch(batch_size)\n",
    "    return dataset\n",
    "\n",
    "train_set = csv_reader_dataset(train_filenames, batch_size=3)\n",
    "for x_batch, y_batch in train_set.take(2):\n",
    "    print(\"x:\")\n",
    "    pprint.pprint(x_batch)\n",
    "    print(\"y:\")\n",
    "    pprint.pprint(y_batch)\n",
    "    "
   ]
  },
  {
   "cell_type": "code",
   "execution_count": 18,
   "metadata": {},
   "outputs": [],
   "source": [
    "batch_size = 32\n",
    "train_set = csv_reader_dataset(train_filenames, batch_size = batch_size)\n",
    "valid_set = csv_reader_dataset(valid_filenames, batch_size =  batch_size)\n",
    "test_set = csv_reader_dataset(test_filenames, batch_size)\n"
   ]
  },
  {
   "cell_type": "code",
   "execution_count": 19,
   "metadata": {},
   "outputs": [
    {
     "name": "stdout",
     "output_type": "stream",
     "text": [
      "Epoch 1/100\n",
      "348/348 [==============================] - 1s 3ms/step - loss: 2.0307 - val_loss: 0.9591\n",
      "Epoch 2/100\n",
      "348/348 [==============================] - 1s 2ms/step - loss: 0.7765 - val_loss: 0.7461\n",
      "Epoch 3/100\n",
      "348/348 [==============================] - 1s 2ms/step - loss: 0.6648 - val_loss: 0.6966\n",
      "Epoch 4/100\n",
      "348/348 [==============================] - 1s 2ms/step - loss: 0.6349 - val_loss: 0.6633\n",
      "Epoch 5/100\n",
      "348/348 [==============================] - 1s 2ms/step - loss: 0.6065 - val_loss: 0.6365\n",
      "Epoch 6/100\n",
      "348/348 [==============================] - 1s 2ms/step - loss: 0.5604 - val_loss: 0.6141\n",
      "Epoch 7/100\n",
      "348/348 [==============================] - 1s 2ms/step - loss: 0.5533 - val_loss: 0.5940\n",
      "Epoch 8/100\n",
      "348/348 [==============================] - 1s 2ms/step - loss: 0.5306 - val_loss: 0.5757\n",
      "Epoch 9/100\n",
      "348/348 [==============================] - 1s 2ms/step - loss: 0.5238 - val_loss: 0.5619\n",
      "Epoch 10/100\n",
      "348/348 [==============================] - 1s 2ms/step - loss: 0.5151 - val_loss: 0.5490\n",
      "Epoch 11/100\n",
      "348/348 [==============================] - 1s 2ms/step - loss: 0.4887 - val_loss: 0.5376\n",
      "Epoch 12/100\n",
      "348/348 [==============================] - 1s 2ms/step - loss: 0.4900 - val_loss: 0.5290\n",
      "Epoch 13/100\n",
      "348/348 [==============================] - 1s 2ms/step - loss: 0.4816 - val_loss: 0.5193\n",
      "Epoch 14/100\n",
      "348/348 [==============================] - 1s 2ms/step - loss: 0.4705 - val_loss: 0.5117\n",
      "Epoch 15/100\n",
      "348/348 [==============================] - 1s 2ms/step - loss: 0.4761 - val_loss: 0.5067\n",
      "Epoch 16/100\n",
      "348/348 [==============================] - 1s 2ms/step - loss: 0.4618 - val_loss: 0.4980\n",
      "Epoch 17/100\n",
      "348/348 [==============================] - 1s 2ms/step - loss: 0.4570 - val_loss: 0.4930\n",
      "Epoch 18/100\n",
      "348/348 [==============================] - 1s 2ms/step - loss: 0.4604 - val_loss: 0.4857\n",
      "Epoch 19/100\n",
      "348/348 [==============================] - 1s 2ms/step - loss: 0.4509 - val_loss: 0.4827\n",
      "Epoch 20/100\n",
      "348/348 [==============================] - 1s 2ms/step - loss: 0.4440 - val_loss: 0.4785\n",
      "Epoch 21/100\n",
      "348/348 [==============================] - 1s 2ms/step - loss: 0.4413 - val_loss: 0.4746\n",
      "Epoch 22/100\n",
      "348/348 [==============================] - 1s 2ms/step - loss: 0.4428 - val_loss: 0.4708\n",
      "Epoch 23/100\n",
      "348/348 [==============================] - 1s 2ms/step - loss: 0.4386 - val_loss: 0.4691\n",
      "Epoch 24/100\n",
      "348/348 [==============================] - 1s 2ms/step - loss: 0.4392 - val_loss: 0.4677\n",
      "Epoch 25/100\n",
      "348/348 [==============================] - 1s 2ms/step - loss: 0.4333 - val_loss: 0.4633\n",
      "Epoch 26/100\n",
      "348/348 [==============================] - 1s 2ms/step - loss: 0.4356 - val_loss: 0.4613\n",
      "Epoch 27/100\n",
      "348/348 [==============================] - 1s 2ms/step - loss: 0.4298 - val_loss: 0.4596\n",
      "Epoch 28/100\n",
      "348/348 [==============================] - 1s 3ms/step - loss: 0.4267 - val_loss: 0.4579\n",
      "Epoch 29/100\n",
      "348/348 [==============================] - 1s 3ms/step - loss: 0.4280 - val_loss: 0.4556\n",
      "Epoch 30/100\n",
      "348/348 [==============================] - 1s 2ms/step - loss: 0.4283 - val_loss: 0.4535\n",
      "Epoch 31/100\n",
      "348/348 [==============================] - 1s 2ms/step - loss: 0.4299 - val_loss: 0.4524\n",
      "Epoch 32/100\n",
      "348/348 [==============================] - 1s 2ms/step - loss: 0.4183 - val_loss: 0.4507\n"
     ]
    }
   ],
   "source": [
    "model = keras.models.Sequential([\n",
    "    keras.layers.Dense(30, activation='relu',\n",
    "                      input_shape=[8]),\n",
    "    keras.layers.Dense(1),\n",
    "])\n",
    "model.compile(loss=\"mean_squared_error\",optimizer=\"sgd\")\n",
    "callbacks = [keras.callbacks.EarlyStopping(\n",
    "             patience=5, min_delta=1e-2)]\n",
    "\n",
    "history = model.fit(train_set,\n",
    "                    validation_data = valid_set,\n",
    "                    steps_per_epoch = 11160 // batch_size,\n",
    "                    validation_steps = 3870 // batch_size,\n",
    "                    epochs = 100,\n",
    "                    callbacks = callbacks)"
   ]
  },
  {
   "cell_type": "code",
   "execution_count": 20,
   "metadata": {},
   "outputs": [
    {
     "name": "stdout",
     "output_type": "stream",
     "text": [
      "161/161 [==============================] - 0s 2ms/step - loss: 0.4463\n"
     ]
    },
    {
     "data": {
      "text/plain": [
       "0.4463289657272167"
      ]
     },
     "execution_count": 20,
     "metadata": {},
     "output_type": "execute_result"
    }
   ],
   "source": [
    "model.evaluate(test_set, steps = 5160 // batch_size)"
   ]
  },
  {
   "cell_type": "code",
   "execution_count": null,
   "metadata": {},
   "outputs": [],
   "source": []
  }
 ],
 "metadata": {
  "kernelspec": {
   "display_name": "Python 3",
   "language": "python",
   "name": "python3"
  },
  "language_info": {
   "codemirror_mode": {
    "name": "ipython",
    "version": 3
   },
   "file_extension": ".py",
   "mimetype": "text/x-python",
   "name": "python",
   "nbconvert_exporter": "python",
   "pygments_lexer": "ipython3",
   "version": "3.6.8"
  }
 },
 "nbformat": 4,
 "nbformat_minor": 2
}
