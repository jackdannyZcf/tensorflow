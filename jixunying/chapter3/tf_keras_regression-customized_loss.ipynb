{
 "cells": [
  {
   "cell_type": "code",
   "execution_count": 1,
   "metadata": {},
   "outputs": [
    {
     "name": "stdout",
     "output_type": "stream",
     "text": [
      "2.0.0-alpha0\n",
      "sys.version_info(major=3, minor=6, micro=8, releaselevel='final', serial=0)\n",
      "matplotlib 3.1.1\n",
      "numpy 1.16.2\n",
      "pandas 0.25.0\n",
      "sklearn 0.21.3\n",
      "tensorflow 2.0.0-alpha0\n",
      "tensorflow.python.keras.api._v2.keras 2.2.4-tf\n"
     ]
    }
   ],
   "source": [
    "import matplotlib as mpl\n",
    "import matplotlib.pyplot as plt\n",
    "%matplotlib inline\n",
    "import numpy as np\n",
    "import sklearn\n",
    "import pandas as pd\n",
    "import os\n",
    "import sys\n",
    "import time\n",
    "import tensorflow as tf\n",
    "\n",
    "from tensorflow import keras\n",
    "\n",
    "print(tf.__version__)\n",
    "print(sys.version_info)\n",
    "for module in mpl, np, pd, sklearn, tf, keras:\n",
    "    print(module.__name__, module.__version__)"
   ]
  },
  {
   "cell_type": "code",
   "execution_count": 2,
   "metadata": {},
   "outputs": [
    {
     "name": "stdout",
     "output_type": "stream",
     "text": [
      ".. _california_housing_dataset:\n",
      "\n",
      "California Housing dataset\n",
      "--------------------------\n",
      "\n",
      "**Data Set Characteristics:**\n",
      "\n",
      "    :Number of Instances: 20640\n",
      "\n",
      "    :Number of Attributes: 8 numeric, predictive attributes and the target\n",
      "\n",
      "    :Attribute Information:\n",
      "        - MedInc        median income in block\n",
      "        - HouseAge      median house age in block\n",
      "        - AveRooms      average number of rooms\n",
      "        - AveBedrms     average number of bedrooms\n",
      "        - Population    block population\n",
      "        - AveOccup      average house occupancy\n",
      "        - Latitude      house block latitude\n",
      "        - Longitude     house block longitude\n",
      "\n",
      "    :Missing Attribute Values: None\n",
      "\n",
      "This dataset was obtained from the StatLib repository.\n",
      "http://lib.stat.cmu.edu/datasets/\n",
      "\n",
      "The target variable is the median house value for California districts.\n",
      "\n",
      "This dataset was derived from the 1990 U.S. census, using one row per census\n",
      "block group. A block group is the smallest geographical unit for which the U.S.\n",
      "Census Bureau publishes sample data (a block group typically has a population\n",
      "of 600 to 3,000 people).\n",
      "\n",
      "It can be downloaded/loaded using the\n",
      ":func:`sklearn.datasets.fetch_california_housing` function.\n",
      "\n",
      ".. topic:: References\n",
      "\n",
      "    - Pace, R. Kelley and Ronald Barry, Sparse Spatial Autoregressions,\n",
      "      Statistics and Probability Letters, 33 (1997) 291-297\n",
      "\n",
      "(20640, 8)\n",
      "(20640,)\n"
     ]
    }
   ],
   "source": [
    "from sklearn.datasets import fetch_california_housing\n",
    "\n",
    "housing = fetch_california_housing()\n",
    "print(housing.DESCR)\n",
    "print(housing.data.shape)\n",
    "print(housing.target.shape)\n"
   ]
  },
  {
   "cell_type": "code",
   "execution_count": 3,
   "metadata": {},
   "outputs": [
    {
     "name": "stdout",
     "output_type": "stream",
     "text": [
      "(11610, 8) (11610,)\n",
      "(3870, 8) (3870,)\n",
      "(5160, 8) (5160,)\n"
     ]
    }
   ],
   "source": [
    "from sklearn.model_selection import train_test_split\n",
    "\n",
    "x_train_all, x_test, y_train_all, y_test = train_test_split(\n",
    "    housing.data, housing.target, random_state = 7)\n",
    "x_train, x_valid, y_train, y_valid = train_test_split(\n",
    "    x_train_all, y_train_all, random_state = 11)\n",
    "print(x_train.shape, y_train.shape)\n",
    "print(x_valid.shape, y_valid.shape)\n",
    "print(x_test.shape, y_test.shape)"
   ]
  },
  {
   "cell_type": "code",
   "execution_count": 4,
   "metadata": {},
   "outputs": [],
   "source": [
    "from sklearn.preprocessing import StandardScaler\n",
    "\n",
    "scaler = StandardScaler()\n",
    "x_train_scaler = scaler.fit_transform(x_train)\n",
    "x_valid_scaler = scaler.transform(x_valid)\n",
    "x_test_scaler = scaler.transform(x_test)\n"
   ]
  },
  {
   "cell_type": "code",
   "execution_count": 5,
   "metadata": {},
   "outputs": [
    {
     "name": "stdout",
     "output_type": "stream",
     "text": [
      "Model: \"sequential\"\n",
      "_________________________________________________________________\n",
      "Layer (type)                 Output Shape              Param #   \n",
      "=================================================================\n",
      "dense (Dense)                (None, 30)                270       \n",
      "_________________________________________________________________\n",
      "dense_1 (Dense)              (None, 1)                 31        \n",
      "=================================================================\n",
      "Total params: 301\n",
      "Trainable params: 301\n",
      "Non-trainable params: 0\n",
      "_________________________________________________________________\n"
     ]
    }
   ],
   "source": [
    "def customized_mse(y_true, y_pred):\n",
    "    return tf.reduce_mean(tf.square(y_pred - y_true))\n",
    "\n",
    "model = keras.models.Sequential([\n",
    "    keras.layers.Dense(30, activation='relu',\n",
    "                      input_shape=x_train.shape[1:]),\n",
    "    keras.layers.Dense(1),\n",
    "])\n",
    "model.summary()\n",
    "model.compile(loss=customized_mse, optimizer=\"sgd\",\n",
    "              metrics=[\"mean_squared_error\"])\n",
    "callbacks = [keras.callbacks.EarlyStopping(\n",
    "             patience=5, min_delta=1e-2)]"
   ]
  },
  {
   "cell_type": "code",
   "execution_count": 6,
   "metadata": {},
   "outputs": [
    {
     "name": "stdout",
     "output_type": "stream",
     "text": [
      "Train on 11610 samples, validate on 3870 samples\n",
      "Epoch 1/100\n",
      "11610/11610 [==============================] - 0s 33us/sample - loss: 2.2017 - mean_squared_error: 2.2017 - val_loss: 1.0330 - val_mean_squared_error: 1.0330\n",
      "Epoch 2/100\n",
      "11610/11610 [==============================] - 0s 22us/sample - loss: 0.8366 - mean_squared_error: 0.8366 - val_loss: 0.8171 - val_mean_squared_error: 0.8171\n",
      "Epoch 3/100\n",
      "11610/11610 [==============================] - 0s 24us/sample - loss: 0.7203 - mean_squared_error: 0.7203 - val_loss: 0.7632 - val_mean_squared_error: 0.7632\n",
      "Epoch 4/100\n",
      "11610/11610 [==============================] - 0s 23us/sample - loss: 0.6733 - mean_squared_error: 0.6733 - val_loss: 0.7178 - val_mean_squared_error: 0.7178\n",
      "Epoch 5/100\n",
      "11610/11610 [==============================] - 0s 22us/sample - loss: 0.6384 - mean_squared_error: 0.6384 - val_loss: 0.6863 - val_mean_squared_error: 0.6863\n",
      "Epoch 6/100\n",
      "11610/11610 [==============================] - 0s 22us/sample - loss: 0.6100 - mean_squared_error: 0.6100 - val_loss: 0.6570 - val_mean_squared_error: 0.6570\n",
      "Epoch 7/100\n",
      "11610/11610 [==============================] - 0s 21us/sample - loss: 0.5852 - mean_squared_error: 0.5852 - val_loss: 0.6297 - val_mean_squared_error: 0.6297\n",
      "Epoch 8/100\n",
      "11610/11610 [==============================] - 0s 22us/sample - loss: 0.5675 - mean_squared_error: 0.5675 - val_loss: 0.6088 - val_mean_squared_error: 0.6088\n",
      "Epoch 9/100\n",
      "11610/11610 [==============================] - 0s 21us/sample - loss: 0.5499 - mean_squared_error: 0.5499 - val_loss: 0.5907 - val_mean_squared_error: 0.5907\n",
      "Epoch 10/100\n",
      "11610/11610 [==============================] - 0s 23us/sample - loss: 0.5357 - mean_squared_error: 0.5357 - val_loss: 0.5771 - val_mean_squared_error: 0.5771\n",
      "Epoch 11/100\n",
      "11610/11610 [==============================] - 0s 22us/sample - loss: 0.5238 - mean_squared_error: 0.5238 - val_loss: 0.5620 - val_mean_squared_error: 0.5620\n",
      "Epoch 12/100\n",
      "11610/11610 [==============================] - 0s 21us/sample - loss: 0.5141 - mean_squared_error: 0.5141 - val_loss: 0.5509 - val_mean_squared_error: 0.5509\n",
      "Epoch 13/100\n",
      "11610/11610 [==============================] - 0s 21us/sample - loss: 0.5058 - mean_squared_error: 0.5058 - val_loss: 0.5397 - val_mean_squared_error: 0.5397\n",
      "Epoch 14/100\n",
      "11610/11610 [==============================] - 0s 22us/sample - loss: 0.4991 - mean_squared_error: 0.4991 - val_loss: 0.5327 - val_mean_squared_error: 0.5327\n",
      "Epoch 15/100\n",
      "11610/11610 [==============================] - 0s 21us/sample - loss: 0.4934 - mean_squared_error: 0.4934 - val_loss: 0.5254 - val_mean_squared_error: 0.5254\n",
      "Epoch 16/100\n",
      "11610/11610 [==============================] - 0s 21us/sample - loss: 0.4886 - mean_squared_error: 0.4886 - val_loss: 0.5195 - val_mean_squared_error: 0.5195\n",
      "Epoch 17/100\n",
      "11610/11610 [==============================] - 0s 21us/sample - loss: 0.4846 - mean_squared_error: 0.4846 - val_loss: 0.5140 - val_mean_squared_error: 0.5140\n",
      "Epoch 18/100\n",
      "11610/11610 [==============================] - 0s 21us/sample - loss: 0.4808 - mean_squared_error: 0.4808 - val_loss: 0.5108 - val_mean_squared_error: 0.5108\n",
      "Epoch 19/100\n",
      "11610/11610 [==============================] - 0s 21us/sample - loss: 0.4776 - mean_squared_error: 0.4776 - val_loss: 0.5069 - val_mean_squared_error: 0.5069\n",
      "Epoch 20/100\n",
      "11610/11610 [==============================] - 0s 21us/sample - loss: 0.4745 - mean_squared_error: 0.4745 - val_loss: 0.5029 - val_mean_squared_error: 0.5029\n",
      "Epoch 21/100\n",
      "11610/11610 [==============================] - 0s 21us/sample - loss: 0.4719 - mean_squared_error: 0.4719 - val_loss: 0.5001 - val_mean_squared_error: 0.5001\n",
      "Epoch 22/100\n",
      "11610/11610 [==============================] - 0s 23us/sample - loss: 0.4695 - mean_squared_error: 0.4695 - val_loss: 0.4981 - val_mean_squared_error: 0.4981\n",
      "Epoch 23/100\n",
      "11610/11610 [==============================] - 0s 23us/sample - loss: 0.4672 - mean_squared_error: 0.4672 - val_loss: 0.4966 - val_mean_squared_error: 0.4966\n",
      "Epoch 24/100\n",
      "11610/11610 [==============================] - 0s 23us/sample - loss: 0.4650 - mean_squared_error: 0.4650 - val_loss: 0.4921 - val_mean_squared_error: 0.4921\n",
      "Epoch 25/100\n",
      "11610/11610 [==============================] - 0s 21us/sample - loss: 0.4631 - mean_squared_error: 0.4631 - val_loss: 0.4917 - val_mean_squared_error: 0.4917\n",
      "Epoch 26/100\n",
      "11610/11610 [==============================] - 0s 22us/sample - loss: 0.4611 - mean_squared_error: 0.4611 - val_loss: 0.4875 - val_mean_squared_error: 0.4875\n",
      "Epoch 27/100\n",
      "11610/11610 [==============================] - 0s 21us/sample - loss: 0.4595 - mean_squared_error: 0.4595 - val_loss: 0.4860 - val_mean_squared_error: 0.4860\n",
      "Epoch 28/100\n",
      "11610/11610 [==============================] - 0s 22us/sample - loss: 0.4576 - mean_squared_error: 0.4576 - val_loss: 0.4847 - val_mean_squared_error: 0.4847\n",
      "Epoch 29/100\n",
      "11610/11610 [==============================] - 0s 22us/sample - loss: 0.4557 - mean_squared_error: 0.4557 - val_loss: 0.4807 - val_mean_squared_error: 0.4807\n",
      "Epoch 30/100\n",
      "11610/11610 [==============================] - 0s 22us/sample - loss: 0.4546 - mean_squared_error: 0.4546 - val_loss: 0.4799 - val_mean_squared_error: 0.4799\n",
      "Epoch 31/100\n",
      "11610/11610 [==============================] - 0s 22us/sample - loss: 0.4529 - mean_squared_error: 0.4529 - val_loss: 0.4804 - val_mean_squared_error: 0.4804\n",
      "Epoch 32/100\n",
      "11610/11610 [==============================] - 0s 22us/sample - loss: 0.4513 - mean_squared_error: 0.4513 - val_loss: 0.4767 - val_mean_squared_error: 0.4767\n",
      "Epoch 33/100\n",
      "11610/11610 [==============================] - 0s 21us/sample - loss: 0.4500 - mean_squared_error: 0.4500 - val_loss: 0.4760 - val_mean_squared_error: 0.4760\n",
      "Epoch 34/100\n",
      "11610/11610 [==============================] - 0s 22us/sample - loss: 0.4485 - mean_squared_error: 0.4485 - val_loss: 0.4748 - val_mean_squared_error: 0.4748\n"
     ]
    }
   ],
   "source": [
    "history = model.fit(x_train_scaler, y_train,\n",
    "                    validation_data = (x_valid_scaler, y_valid),\n",
    "                    epochs = 100,\n",
    "                    callbacks = callbacks)"
   ]
  },
  {
   "cell_type": "code",
   "execution_count": 7,
   "metadata": {},
   "outputs": [
    {
     "data": {
      "image/png": "[encoded data removed]",
      "text/plain": [
       "<Figure size 576x360 with 1 Axes>"
      ]
     },
     "metadata": {
      "needs_background": "light"
     },
     "output_type": "display_data"
    }
   ],
   "source": [
    "def plot_learning_curves(history):\n",
    "    pd.DataFrame(history.history).plot(figsize=(8, 5))\n",
    "    plt.grid(True)\n",
    "    plt.gca().set_ylim(0, 1)\n",
    "    plt.show()\n",
    "plot_learning_curves(history)"
   ]
  },
  {
   "cell_type": "code",
   "execution_count": null,
   "metadata": {},
   "outputs": [],
   "source": [
    "model.evaluate(x_test_scaler, y_test)"
   ]
  },
  {
   "cell_type": "code",
   "execution_count": null,
   "metadata": {},
   "outputs": [],
   "source": []
  }
 ],
 "metadata": {
  "kernelspec": {
   "display_name": "Python 3",
   "language": "python",
   "name": "python3"
  },
  "language_info": {
   "codemirror_mode": {
    "name": "ipython",
    "version": 3
   },
   "file_extension": ".py",
   "mimetype": "text/x-python",
   "name": "python",
   "nbconvert_exporter": "python",
   "pygments_lexer": "ipython3",
   "version": "3.6.8"
  }
 },
 "nbformat": 4,
 "nbformat_minor": 2
}
