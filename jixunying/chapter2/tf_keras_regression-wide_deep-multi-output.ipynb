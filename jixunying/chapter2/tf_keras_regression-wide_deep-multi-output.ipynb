{
 "cells": [
  {
   "cell_type": "code",
   "execution_count": 1,
   "metadata": {},
   "outputs": [
    {
     "name": "stdout",
     "output_type": "stream",
     "text": [
      "2.0.0-alpha0\n",
      "sys.version_info(major=3, minor=6, micro=8, releaselevel='final', serial=0)\n",
      "matplotlib 3.1.1\n",
      "numpy 1.16.2\n",
      "pandas 0.25.0\n",
      "sklearn 0.21.3\n",
      "tensorflow 2.0.0-alpha0\n",
      "tensorflow.python.keras.api._v2.keras 2.2.4-tf\n"
     ]
    }
   ],
   "source": [
    "import matplotlib as mpl\n",
    "import matplotlib.pyplot as plt\n",
    "%matplotlib inline\n",
    "import numpy as np\n",
    "import sklearn\n",
    "import pandas as pd\n",
    "import os\n",
    "import sys\n",
    "import time\n",
    "import tensorflow as tf\n",
    "\n",
    "from tensorflow import keras\n",
    "\n",
    "print(tf.__version__)\n",
    "print(sys.version_info)\n",
    "for module in mpl, np, pd, sklearn, tf, keras:\n",
    "    print(module.__name__, module.__version__)"
   ]
  },
  {
   "cell_type": "code",
   "execution_count": 2,
   "metadata": {},
   "outputs": [],
   "source": [
    "from sklearn.datasets import fetch_california_housing\n",
    "\n",
    "housing = fetch_california_housing()\n"
   ]
  },
  {
   "cell_type": "code",
   "execution_count": 3,
   "metadata": {},
   "outputs": [
    {
     "name": "stdout",
     "output_type": "stream",
     "text": [
      "array([[ 8.32520000e+00,  4.10000000e+01,  6.98412698e+00,\n",
      "         1.02380952e+00,  3.22000000e+02,  2.55555556e+00,\n",
      "         3.78800000e+01, -1.22230000e+02],\n",
      "       [ 8.30140000e+00,  2.10000000e+01,  6.23813708e+00,\n",
      "         9.71880492e-01,  2.40100000e+03,  2.10984183e+00,\n",
      "         3.78600000e+01, -1.22220000e+02],\n",
      "       [ 7.25740000e+00,  5.20000000e+01,  8.28813559e+00,\n",
      "         1.07344633e+00,  4.96000000e+02,  2.80225989e+00,\n",
      "         3.78500000e+01, -1.22240000e+02],\n",
      "       [ 5.64310000e+00,  5.20000000e+01,  5.81735160e+00,\n",
      "         1.07305936e+00,  5.58000000e+02,  2.54794521e+00,\n",
      "         3.78500000e+01, -1.22250000e+02],\n",
      "       [ 3.84620000e+00,  5.20000000e+01,  6.28185328e+00,\n",
      "         1.08108108e+00,  5.65000000e+02,  2.18146718e+00,\n",
      "         3.78500000e+01, -1.22250000e+02]])\n",
      "array([4.526, 3.585, 3.521, 3.413, 3.422])\n"
     ]
    }
   ],
   "source": [
    "import pprint\n",
    "\n",
    "pprint.pprint(housing.data[0:5])\n",
    "pprint.pprint(housing.target[0:5])\n"
   ]
  },
  {
   "cell_type": "code",
   "execution_count": 4,
   "metadata": {},
   "outputs": [
    {
     "name": "stdout",
     "output_type": "stream",
     "text": [
      "(11610, 8) (11610,)\n",
      "(3870, 8) (3870,)\n",
      "(5160, 8) (5160,)\n"
     ]
    }
   ],
   "source": [
    "from sklearn.model_selection import train_test_split\n",
    "\n",
    "x_train_all, x_test, y_train_all, y_test = train_test_split(\n",
    "    housing.data, housing.target, random_state = 7)\n",
    "x_train, x_valid, y_train, y_valid = train_test_split(\n",
    "    x_train_all, y_train_all, random_state = 11)\n",
    "print(x_train.shape, y_train.shape)\n",
    "print(x_valid.shape, y_valid.shape)\n",
    "print(x_test.shape, y_test.shape)\n"
   ]
  },
  {
   "cell_type": "code",
   "execution_count": 5,
   "metadata": {},
   "outputs": [],
   "source": [
    "from sklearn.preprocessing import StandardScaler\n",
    "\n",
    "scaler = StandardScaler()\n",
    "x_train_scaled = scaler.fit_transform(x_train)\n",
    "x_valid_scaled = scaler.transform(x_valid)\n",
    "x_test_scaled = scaler.transform(x_test)\n"
   ]
  },
  {
   "cell_type": "code",
   "execution_count": 6,
   "metadata": {},
   "outputs": [
    {
     "name": "stdout",
     "output_type": "stream",
     "text": [
      "Model: \"model\"\n",
      "__________________________________________________________________________________________________\n",
      "Layer (type)                    Output Shape         Param #     Connected to                     \n",
      "==================================================================================================\n",
      "input_2 (InputLayer)            [(None, 6)]          0                                            \n",
      "__________________________________________________________________________________________________\n",
      "dense (Dense)                   (None, 30)           210         input_2[0][0]                    \n",
      "__________________________________________________________________________________________________\n",
      "input_1 (InputLayer)            [(None, 5)]          0                                            \n",
      "__________________________________________________________________________________________________\n",
      "dense_1 (Dense)                 (None, 30)           930         dense[0][0]                      \n",
      "__________________________________________________________________________________________________\n",
      "concatenate (Concatenate)       (None, 35)           0           input_1[0][0]                    \n",
      "                                                                 dense_1[0][0]                    \n",
      "__________________________________________________________________________________________________\n",
      "dense_2 (Dense)                 (None, 1)            36          concatenate[0][0]                \n",
      "__________________________________________________________________________________________________\n",
      "dense_3 (Dense)                 (None, 1)            31          dense_1[0][0]                    \n",
      "==================================================================================================\n",
      "Total params: 1,207\n",
      "Trainable params: 1,207\n",
      "Non-trainable params: 0\n",
      "__________________________________________________________________________________________________\n"
     ]
    }
   ],
   "source": [
    "# 多输入\n",
    "input_wide = keras.layers.Input(shape=[5])\n",
    "input_deep = keras.layers.Input(shape=[6])\n",
    "hidden1 = keras.layers.Dense(30, activation='relu')(input_deep)\n",
    "hidden2 = keras.layers.Dense(30, activation='relu')(hidden1)\n",
    "concat = keras.layers.concatenate([input_wide, hidden2])\n",
    "output = keras.layers.Dense(1)(concat)\n",
    "output2 = keras.layers.Dense(1)(hidden2)\n",
    "model = keras.models.Model(inputs = [input_wide, input_deep],\n",
    "                           outputs = [output, output2])\n",
    "\n",
    "model.summary()\n",
    "model.compile(loss=\"mean_squared_error\",optimizer=\"sgd\")\n",
    "callbacks = [keras.callbacks.EarlyStopping(\n",
    "             patience=5, min_delta=1e-2)]"
   ]
  },
  {
   "cell_type": "code",
   "execution_count": 7,
   "metadata": {},
   "outputs": [
    {
     "name": "stdout",
     "output_type": "stream",
     "text": [
      "Train on 11610 samples, validate on 3870 samples\n",
      "Epoch 1/100\n",
      "11610/11610 [==============================] - 1s 51us/sample - loss: 3.8100 - dense_2_loss: 1.7538 - dense_3_loss: 2.0562 - val_loss: 2.4582 - val_dense_2_loss: 0.9293 - val_dense_3_loss: 1.5289\n",
      "Epoch 2/100\n",
      "11610/11610 [==============================] - 0s 29us/sample - loss: 2.0483 - dense_2_loss: 0.7544 - dense_3_loss: 1.2939 - val_loss: 2.0227 - val_dense_2_loss: 0.7120 - val_dense_3_loss: 1.3107\n",
      "Epoch 3/100\n",
      "11610/11610 [==============================] - 0s 29us/sample - loss: 1.7857 - dense_2_loss: 0.6343 - dense_3_loss: 1.1514 - val_loss: 1.8017 - val_dense_2_loss: 0.6380 - val_dense_3_loss: 1.1636\n",
      "Epoch 4/100\n",
      "11610/11610 [==============================] - 0s 30us/sample - loss: 1.5981 - dense_2_loss: 0.5760 - dense_3_loss: 1.0222 - val_loss: 1.6131 - val_dense_2_loss: 0.5916 - val_dense_3_loss: 1.0215\n",
      "Epoch 5/100\n",
      "11610/11610 [==============================] - 0s 30us/sample - loss: 1.4499 - dense_2_loss: 0.5427 - dense_3_loss: 0.9072 - val_loss: 1.4843 - val_dense_2_loss: 0.5655 - val_dense_3_loss: 0.9187\n",
      "Epoch 6/100\n",
      "11610/11610 [==============================] - 0s 29us/sample - loss: 1.3461 - dense_2_loss: 0.5214 - dense_3_loss: 0.8247 - val_loss: 1.3875 - val_dense_2_loss: 0.5436 - val_dense_3_loss: 0.8440\n",
      "Epoch 7/100\n",
      "11610/11610 [==============================] - 0s 29us/sample - loss: 1.2734 - dense_2_loss: 0.5062 - dense_3_loss: 0.7672 - val_loss: 1.3223 - val_dense_2_loss: 0.5286 - val_dense_3_loss: 0.7937\n",
      "Epoch 8/100\n",
      "11610/11610 [==============================] - 0s 28us/sample - loss: 1.2235 - dense_2_loss: 0.4939 - dense_3_loss: 0.7296 - val_loss: 1.2807 - val_dense_2_loss: 0.5174 - val_dense_3_loss: 0.7632\n",
      "Epoch 9/100\n",
      "11610/11610 [==============================] - 0s 28us/sample - loss: 1.1836 - dense_2_loss: 0.4826 - dense_3_loss: 0.7010 - val_loss: 1.2402 - val_dense_2_loss: 0.5066 - val_dense_3_loss: 0.7336\n",
      "Epoch 10/100\n",
      "11610/11610 [==============================] - 0s 29us/sample - loss: 1.1530 - dense_2_loss: 0.4734 - dense_3_loss: 0.6796 - val_loss: 1.2044 - val_dense_2_loss: 0.4952 - val_dense_3_loss: 0.7092\n",
      "Epoch 11/100\n",
      "11610/11610 [==============================] - 0s 30us/sample - loss: 1.1281 - dense_2_loss: 0.4653 - dense_3_loss: 0.6628 - val_loss: 1.1765 - val_dense_2_loss: 0.4866 - val_dense_3_loss: 0.6900\n",
      "Epoch 12/100\n",
      "11610/11610 [==============================] - 0s 29us/sample - loss: 1.1067 - dense_2_loss: 0.4582 - dense_3_loss: 0.6485 - val_loss: 1.1597 - val_dense_2_loss: 0.4815 - val_dense_3_loss: 0.6782\n",
      "Epoch 13/100\n",
      "11610/11610 [==============================] - 0s 29us/sample - loss: 1.0888 - dense_2_loss: 0.4524 - dense_3_loss: 0.6364 - val_loss: 1.1443 - val_dense_2_loss: 0.4754 - val_dense_3_loss: 0.6690\n",
      "Epoch 14/100\n",
      "11610/11610 [==============================] - 0s 30us/sample - loss: 1.0735 - dense_2_loss: 0.4476 - dense_3_loss: 0.6258 - val_loss: 1.1228 - val_dense_2_loss: 0.4691 - val_dense_3_loss: 0.6537\n",
      "Epoch 15/100\n",
      "11610/11610 [==============================] - 0s 29us/sample - loss: 1.0603 - dense_2_loss: 0.4432 - dense_3_loss: 0.6171 - val_loss: 1.1093 - val_dense_2_loss: 0.4658 - val_dense_3_loss: 0.6435\n",
      "Epoch 16/100\n",
      "11610/11610 [==============================] - 0s 29us/sample - loss: 1.0501 - dense_2_loss: 0.4398 - dense_3_loss: 0.6103 - val_loss: 1.0984 - val_dense_2_loss: 0.4610 - val_dense_3_loss: 0.6374\n",
      "Epoch 17/100\n",
      "11610/11610 [==============================] - 0s 29us/sample - loss: 1.0369 - dense_2_loss: 0.4354 - dense_3_loss: 0.6015 - val_loss: 1.0893 - val_dense_2_loss: 0.4575 - val_dense_3_loss: 0.6318\n",
      "Epoch 18/100\n",
      "11610/11610 [==============================] - 0s 29us/sample - loss: 1.0282 - dense_2_loss: 0.4319 - dense_3_loss: 0.5962 - val_loss: 1.0813 - val_dense_2_loss: 0.4564 - val_dense_3_loss: 0.6249\n",
      "Epoch 19/100\n",
      "11610/11610 [==============================] - 0s 29us/sample - loss: 1.0178 - dense_2_loss: 0.4292 - dense_3_loss: 0.5887 - val_loss: 1.0745 - val_dense_2_loss: 0.4535 - val_dense_3_loss: 0.6210\n",
      "Epoch 20/100\n",
      "11610/11610 [==============================] - 0s 29us/sample - loss: 1.0086 - dense_2_loss: 0.4259 - dense_3_loss: 0.5828 - val_loss: 1.0585 - val_dense_2_loss: 0.4483 - val_dense_3_loss: 0.6102\n",
      "Epoch 21/100\n",
      "11610/11610 [==============================] - 0s 29us/sample - loss: 1.0002 - dense_2_loss: 0.4232 - dense_3_loss: 0.5770 - val_loss: 1.0467 - val_dense_2_loss: 0.4440 - val_dense_3_loss: 0.6027\n",
      "Epoch 22/100\n",
      "11610/11610 [==============================] - 0s 29us/sample - loss: 0.9938 - dense_2_loss: 0.4214 - dense_3_loss: 0.5725 - val_loss: 1.0442 - val_dense_2_loss: 0.4428 - val_dense_3_loss: 0.6014\n",
      "Epoch 23/100\n",
      "11610/11610 [==============================] - 0s 29us/sample - loss: 0.9846 - dense_2_loss: 0.4180 - dense_3_loss: 0.5666 - val_loss: 1.0358 - val_dense_2_loss: 0.4419 - val_dense_3_loss: 0.5939\n",
      "Epoch 24/100\n",
      "11610/11610 [==============================] - 0s 29us/sample - loss: 0.9780 - dense_2_loss: 0.4160 - dense_3_loss: 0.5620 - val_loss: 1.0272 - val_dense_2_loss: 0.4390 - val_dense_3_loss: 0.5882\n",
      "Epoch 25/100\n",
      "11610/11610 [==============================] - 0s 29us/sample - loss: 0.9718 - dense_2_loss: 0.4142 - dense_3_loss: 0.5576 - val_loss: 1.0247 - val_dense_2_loss: 0.4370 - val_dense_3_loss: 0.5878\n",
      "Epoch 26/100\n",
      "11610/11610 [==============================] - 0s 29us/sample - loss: 0.9645 - dense_2_loss: 0.4115 - dense_3_loss: 0.5530 - val_loss: 1.0158 - val_dense_2_loss: 0.4338 - val_dense_3_loss: 0.5819\n",
      "Epoch 27/100\n",
      "11610/11610 [==============================] - 0s 29us/sample - loss: 0.9580 - dense_2_loss: 0.4095 - dense_3_loss: 0.5485 - val_loss: 1.0085 - val_dense_2_loss: 0.4314 - val_dense_3_loss: 0.5771\n",
      "Epoch 28/100\n",
      "11610/11610 [==============================] - 0s 29us/sample - loss: 0.9513 - dense_2_loss: 0.4072 - dense_3_loss: 0.5441 - val_loss: 1.0007 - val_dense_2_loss: 0.4290 - val_dense_3_loss: 0.5717\n",
      "Epoch 29/100\n",
      "11610/11610 [==============================] - 0s 29us/sample - loss: 0.9462 - dense_2_loss: 0.4055 - dense_3_loss: 0.5406 - val_loss: 0.9981 - val_dense_2_loss: 0.4284 - val_dense_3_loss: 0.5696\n",
      "Epoch 30/100\n",
      "11610/11610 [==============================] - 0s 30us/sample - loss: 0.9410 - dense_2_loss: 0.4038 - dense_3_loss: 0.5372 - val_loss: 0.9958 - val_dense_2_loss: 0.4254 - val_dense_3_loss: 0.5704\n",
      "Epoch 31/100\n",
      "11610/11610 [==============================] - 0s 28us/sample - loss: 0.9355 - dense_2_loss: 0.4021 - dense_3_loss: 0.5334 - val_loss: 0.9902 - val_dense_2_loss: 0.4245 - val_dense_3_loss: 0.5657\n",
      "Epoch 32/100\n",
      "11610/11610 [==============================] - 0s 28us/sample - loss: 0.9298 - dense_2_loss: 0.4004 - dense_3_loss: 0.5294 - val_loss: 0.9847 - val_dense_2_loss: 0.4240 - val_dense_3_loss: 0.5607\n",
      "Epoch 33/100\n",
      "11610/11610 [==============================] - 0s 29us/sample - loss: 0.9245 - dense_2_loss: 0.3982 - dense_3_loss: 0.5263 - val_loss: 0.9760 - val_dense_2_loss: 0.4217 - val_dense_3_loss: 0.5543\n",
      "Epoch 34/100\n",
      "11610/11610 [==============================] - 0s 31us/sample - loss: 0.9194 - dense_2_loss: 0.3968 - dense_3_loss: 0.5226 - val_loss: 0.9729 - val_dense_2_loss: 0.4193 - val_dense_3_loss: 0.5536\n",
      "Epoch 35/100\n",
      "11610/11610 [==============================] - 0s 29us/sample - loss: 0.9149 - dense_2_loss: 0.3951 - dense_3_loss: 0.5198 - val_loss: 0.9647 - val_dense_2_loss: 0.4169 - val_dense_3_loss: 0.5479\n",
      "Epoch 36/100\n",
      "11610/11610 [==============================] - 0s 29us/sample - loss: 0.9093 - dense_2_loss: 0.3935 - dense_3_loss: 0.5159 - val_loss: 0.9593 - val_dense_2_loss: 0.4139 - val_dense_3_loss: 0.5454\n",
      "Epoch 37/100\n",
      "11610/11610 [==============================] - 0s 28us/sample - loss: 0.9048 - dense_2_loss: 0.3920 - dense_3_loss: 0.5128 - val_loss: 0.9543 - val_dense_2_loss: 0.4134 - val_dense_3_loss: 0.5410\n",
      "Epoch 38/100\n",
      "11610/11610 [==============================] - 0s 30us/sample - loss: 0.8998 - dense_2_loss: 0.3904 - dense_3_loss: 0.5094 - val_loss: 0.9487 - val_dense_2_loss: 0.4113 - val_dense_3_loss: 0.5374\n",
      "Epoch 39/100\n",
      "11610/11610 [==============================] - 0s 30us/sample - loss: 0.8950 - dense_2_loss: 0.3887 - dense_3_loss: 0.5063 - val_loss: 0.9432 - val_dense_2_loss: 0.4092 - val_dense_3_loss: 0.5340\n",
      "Epoch 40/100\n"
     ]
    },
    {
     "name": "stdout",
     "output_type": "stream",
     "text": [
      "11610/11610 [==============================] - 0s 29us/sample - loss: 0.8908 - dense_2_loss: 0.3878 - dense_3_loss: 0.5030 - val_loss: 0.9477 - val_dense_2_loss: 0.4123 - val_dense_3_loss: 0.5353\n",
      "Epoch 41/100\n",
      "11610/11610 [==============================] - 0s 29us/sample - loss: 0.8859 - dense_2_loss: 0.3858 - dense_3_loss: 0.5002 - val_loss: 0.9400 - val_dense_2_loss: 0.4104 - val_dense_3_loss: 0.5296\n",
      "Epoch 42/100\n",
      "11610/11610 [==============================] - 0s 30us/sample - loss: 0.8828 - dense_2_loss: 0.3855 - dense_3_loss: 0.4973 - val_loss: 0.9273 - val_dense_2_loss: 0.4057 - val_dense_3_loss: 0.5216\n",
      "Epoch 43/100\n",
      "11610/11610 [==============================] - 0s 31us/sample - loss: 0.8783 - dense_2_loss: 0.3839 - dense_3_loss: 0.4944 - val_loss: 0.9270 - val_dense_2_loss: 0.4048 - val_dense_3_loss: 0.5222\n",
      "Epoch 44/100\n",
      "11610/11610 [==============================] - 0s 30us/sample - loss: 0.8739 - dense_2_loss: 0.3823 - dense_3_loss: 0.4916 - val_loss: 0.9193 - val_dense_2_loss: 0.4040 - val_dense_3_loss: 0.5153\n",
      "Epoch 45/100\n",
      "11610/11610 [==============================] - 0s 29us/sample - loss: 0.8689 - dense_2_loss: 0.3808 - dense_3_loss: 0.4881 - val_loss: 0.9144 - val_dense_2_loss: 0.4018 - val_dense_3_loss: 0.5126\n",
      "Epoch 46/100\n",
      "11610/11610 [==============================] - 0s 29us/sample - loss: 0.8651 - dense_2_loss: 0.3798 - dense_3_loss: 0.4853 - val_loss: 0.9092 - val_dense_2_loss: 0.3989 - val_dense_3_loss: 0.5103\n",
      "Epoch 47/100\n",
      "11610/11610 [==============================] - 0s 28us/sample - loss: 0.8602 - dense_2_loss: 0.3778 - dense_3_loss: 0.4824 - val_loss: 0.9069 - val_dense_2_loss: 0.3972 - val_dense_3_loss: 0.5097\n",
      "Epoch 48/100\n",
      "11610/11610 [==============================] - 0s 29us/sample - loss: 0.8569 - dense_2_loss: 0.3772 - dense_3_loss: 0.4797 - val_loss: 0.9026 - val_dense_2_loss: 0.3965 - val_dense_3_loss: 0.5061\n",
      "Epoch 49/100\n",
      "11610/11610 [==============================] - 0s 30us/sample - loss: 0.8518 - dense_2_loss: 0.3755 - dense_3_loss: 0.4763 - val_loss: 0.8997 - val_dense_2_loss: 0.3983 - val_dense_3_loss: 0.5014\n",
      "Epoch 50/100\n",
      "11610/11610 [==============================] - 0s 29us/sample - loss: 0.8476 - dense_2_loss: 0.3740 - dense_3_loss: 0.4736 - val_loss: 0.8963 - val_dense_2_loss: 0.3941 - val_dense_3_loss: 0.5022\n",
      "Epoch 51/100\n",
      "11610/11610 [==============================] - 0s 30us/sample - loss: 0.8432 - dense_2_loss: 0.3727 - dense_3_loss: 0.4705 - val_loss: 0.8936 - val_dense_2_loss: 0.3955 - val_dense_3_loss: 0.4981\n",
      "Epoch 52/100\n",
      "11610/11610 [==============================] - 0s 29us/sample - loss: 0.8406 - dense_2_loss: 0.3718 - dense_3_loss: 0.4688 - val_loss: 0.8859 - val_dense_2_loss: 0.3902 - val_dense_3_loss: 0.4958\n",
      "Epoch 53/100\n",
      "11610/11610 [==============================] - 0s 29us/sample - loss: 0.8374 - dense_2_loss: 0.3711 - dense_3_loss: 0.4663 - val_loss: 0.8821 - val_dense_2_loss: 0.3905 - val_dense_3_loss: 0.4916\n",
      "Epoch 54/100\n",
      "11610/11610 [==============================] - 0s 30us/sample - loss: 0.8323 - dense_2_loss: 0.3692 - dense_3_loss: 0.4631 - val_loss: 0.8757 - val_dense_2_loss: 0.3885 - val_dense_3_loss: 0.4873\n",
      "Epoch 55/100\n",
      "11610/11610 [==============================] - 0s 29us/sample - loss: 0.8292 - dense_2_loss: 0.3684 - dense_3_loss: 0.4608 - val_loss: 0.8716 - val_dense_2_loss: 0.3862 - val_dense_3_loss: 0.4855\n",
      "Epoch 56/100\n",
      "11610/11610 [==============================] - 0s 29us/sample - loss: 0.8265 - dense_2_loss: 0.3676 - dense_3_loss: 0.4589 - val_loss: 0.8669 - val_dense_2_loss: 0.3846 - val_dense_3_loss: 0.4823\n",
      "Epoch 57/100\n",
      "11610/11610 [==============================] - 0s 29us/sample - loss: 0.8226 - dense_2_loss: 0.3663 - dense_3_loss: 0.4563 - val_loss: 0.8642 - val_dense_2_loss: 0.3849 - val_dense_3_loss: 0.4793\n",
      "Epoch 58/100\n",
      "11610/11610 [==============================] - 0s 30us/sample - loss: 0.8185 - dense_2_loss: 0.3647 - dense_3_loss: 0.4539 - val_loss: 0.8559 - val_dense_2_loss: 0.3817 - val_dense_3_loss: 0.4742\n",
      "Epoch 59/100\n",
      "11610/11610 [==============================] - 0s 30us/sample - loss: 0.8140 - dense_2_loss: 0.3632 - dense_3_loss: 0.4508 - val_loss: 0.8536 - val_dense_2_loss: 0.3800 - val_dense_3_loss: 0.4737\n",
      "Epoch 60/100\n",
      "11610/11610 [==============================] - 0s 29us/sample - loss: 0.8113 - dense_2_loss: 0.3624 - dense_3_loss: 0.4489 - val_loss: 0.8522 - val_dense_2_loss: 0.3791 - val_dense_3_loss: 0.4731\n",
      "Epoch 61/100\n",
      "11610/11610 [==============================] - 0s 29us/sample - loss: 0.8078 - dense_2_loss: 0.3610 - dense_3_loss: 0.4468 - val_loss: 0.8568 - val_dense_2_loss: 0.3788 - val_dense_3_loss: 0.4780\n",
      "Epoch 62/100\n",
      "11610/11610 [==============================] - 0s 30us/sample - loss: 0.8059 - dense_2_loss: 0.3605 - dense_3_loss: 0.4454 - val_loss: 0.8444 - val_dense_2_loss: 0.3771 - val_dense_3_loss: 0.4673\n",
      "Epoch 63/100\n",
      "11610/11610 [==============================] - 0s 29us/sample - loss: 0.8004 - dense_2_loss: 0.3586 - dense_3_loss: 0.4418 - val_loss: 0.8412 - val_dense_2_loss: 0.3746 - val_dense_3_loss: 0.4666\n",
      "Epoch 64/100\n",
      "11610/11610 [==============================] - 0s 29us/sample - loss: 0.7992 - dense_2_loss: 0.3585 - dense_3_loss: 0.4407 - val_loss: 0.8416 - val_dense_2_loss: 0.3730 - val_dense_3_loss: 0.4686\n",
      "Epoch 65/100\n",
      "11610/11610 [==============================] - 0s 29us/sample - loss: 0.7960 - dense_2_loss: 0.3577 - dense_3_loss: 0.4383 - val_loss: 0.8374 - val_dense_2_loss: 0.3731 - val_dense_3_loss: 0.4643\n",
      "Epoch 66/100\n",
      "11610/11610 [==============================] - 0s 29us/sample - loss: 0.7919 - dense_2_loss: 0.3555 - dense_3_loss: 0.4365 - val_loss: 0.8381 - val_dense_2_loss: 0.3741 - val_dense_3_loss: 0.4639\n",
      "Epoch 67/100\n",
      "11610/11610 [==============================] - 0s 30us/sample - loss: 0.7912 - dense_2_loss: 0.3557 - dense_3_loss: 0.4354 - val_loss: 0.8293 - val_dense_2_loss: 0.3699 - val_dense_3_loss: 0.4594\n",
      "Epoch 68/100\n",
      "11610/11610 [==============================] - 0s 30us/sample - loss: 0.7869 - dense_2_loss: 0.3542 - dense_3_loss: 0.4327 - val_loss: 0.8280 - val_dense_2_loss: 0.3710 - val_dense_3_loss: 0.4570\n",
      "Epoch 69/100\n",
      "11610/11610 [==============================] - 0s 30us/sample - loss: 0.7859 - dense_2_loss: 0.3539 - dense_3_loss: 0.4319 - val_loss: 0.8235 - val_dense_2_loss: 0.3682 - val_dense_3_loss: 0.4553\n",
      "Epoch 70/100\n",
      "11610/11610 [==============================] - 0s 29us/sample - loss: 0.7823 - dense_2_loss: 0.3519 - dense_3_loss: 0.4304 - val_loss: 0.8212 - val_dense_2_loss: 0.3684 - val_dense_3_loss: 0.4528\n",
      "Epoch 71/100\n",
      "11610/11610 [==============================] - 0s 30us/sample - loss: 0.7796 - dense_2_loss: 0.3519 - dense_3_loss: 0.4277 - val_loss: 0.8212 - val_dense_2_loss: 0.3679 - val_dense_3_loss: 0.4532\n",
      "Epoch 72/100\n",
      "11610/11610 [==============================] - 0s 30us/sample - loss: 0.7784 - dense_2_loss: 0.3512 - dense_3_loss: 0.4271 - val_loss: 0.8166 - val_dense_2_loss: 0.3666 - val_dense_3_loss: 0.4499\n",
      "Epoch 73/100\n",
      "11610/11610 [==============================] - 0s 29us/sample - loss: 0.7780 - dense_2_loss: 0.3512 - dense_3_loss: 0.4268 - val_loss: 0.8145 - val_dense_2_loss: 0.3681 - val_dense_3_loss: 0.4464\n",
      "Epoch 74/100\n",
      "11610/11610 [==============================] - 0s 30us/sample - loss: 0.7774 - dense_2_loss: 0.3508 - dense_3_loss: 0.4266 - val_loss: 0.8114 - val_dense_2_loss: 0.3636 - val_dense_3_loss: 0.4478\n",
      "Epoch 75/100\n",
      "11610/11610 [==============================] - 0s 29us/sample - loss: 0.7696 - dense_2_loss: 0.3480 - dense_3_loss: 0.4216 - val_loss: 0.8107 - val_dense_2_loss: 0.3635 - val_dense_3_loss: 0.4472\n",
      "Epoch 76/100\n",
      "11610/11610 [==============================] - 0s 29us/sample - loss: 0.7689 - dense_2_loss: 0.3479 - dense_3_loss: 0.4210 - val_loss: 0.8054 - val_dense_2_loss: 0.3613 - val_dense_3_loss: 0.4441\n",
      "Epoch 77/100\n",
      "11610/11610 [==============================] - 0s 29us/sample - loss: 0.7683 - dense_2_loss: 0.3477 - dense_3_loss: 0.4206 - val_loss: 0.8065 - val_dense_2_loss: 0.3606 - val_dense_3_loss: 0.4459\n",
      "Epoch 78/100\n",
      "11610/11610 [==============================] - 0s 30us/sample - loss: 0.7653 - dense_2_loss: 0.3457 - dense_3_loss: 0.4196 - val_loss: 0.8002 - val_dense_2_loss: 0.3593 - val_dense_3_loss: 0.4410\n",
      "Epoch 79/100\n"
     ]
    },
    {
     "name": "stdout",
     "output_type": "stream",
     "text": [
      "11610/11610 [==============================] - 0s 30us/sample - loss: 0.7622 - dense_2_loss: 0.3454 - dense_3_loss: 0.4168 - val_loss: 0.7976 - val_dense_2_loss: 0.3599 - val_dense_3_loss: 0.4377\n",
      "Epoch 80/100\n",
      "11610/11610 [==============================] - 0s 30us/sample - loss: 0.7599 - dense_2_loss: 0.3445 - dense_3_loss: 0.4154 - val_loss: 0.7974 - val_dense_2_loss: 0.3591 - val_dense_3_loss: 0.4384\n",
      "Epoch 81/100\n",
      "11610/11610 [==============================] - 0s 29us/sample - loss: 0.7591 - dense_2_loss: 0.3443 - dense_3_loss: 0.4147 - val_loss: 0.7951 - val_dense_2_loss: 0.3585 - val_dense_3_loss: 0.4367\n",
      "Epoch 82/100\n",
      "11610/11610 [==============================] - 0s 29us/sample - loss: 0.7562 - dense_2_loss: 0.3432 - dense_3_loss: 0.4129 - val_loss: 0.7952 - val_dense_2_loss: 0.3590 - val_dense_3_loss: 0.4362\n",
      "Epoch 83/100\n",
      "11610/11610 [==============================] - 0s 29us/sample - loss: 0.7553 - dense_2_loss: 0.3430 - dense_3_loss: 0.4124 - val_loss: 0.7932 - val_dense_2_loss: 0.3555 - val_dense_3_loss: 0.4376\n",
      "Epoch 84/100\n",
      "11610/11610 [==============================] - 0s 29us/sample - loss: 0.7541 - dense_2_loss: 0.3421 - dense_3_loss: 0.4120 - val_loss: 0.7875 - val_dense_2_loss: 0.3572 - val_dense_3_loss: 0.4302\n",
      "Epoch 85/100\n",
      "11610/11610 [==============================] - 0s 29us/sample - loss: 0.7516 - dense_2_loss: 0.3419 - dense_3_loss: 0.4097 - val_loss: 0.7876 - val_dense_2_loss: 0.3572 - val_dense_3_loss: 0.4303\n",
      "Epoch 86/100\n",
      "11610/11610 [==============================] - 0s 30us/sample - loss: 0.7526 - dense_2_loss: 0.3423 - dense_3_loss: 0.4103 - val_loss: 0.7914 - val_dense_2_loss: 0.3571 - val_dense_3_loss: 0.4344\n"
     ]
    }
   ],
   "source": [
    "x_train_scaled_wide = x_train_scaled[:, :5]\n",
    "x_train_scaled_deep = x_train_scaled[:, 2:]\n",
    "x_valid_scaled_wide = x_valid_scaled[:, :5]\n",
    "x_valid_scaled_deep = x_valid_scaled[:, 2:]\n",
    "x_test_scaled_wide = x_test_scaled[:, :5]\n",
    "x_test_scaled_deep = x_test_scaled[:, 2:]\n",
    "history = model.fit([x_train_scaled_wide, x_train_scaled_deep], [y_train, y_train],\n",
    "                    validation_data = ([x_valid_scaled_wide, x_valid_scaled_deep], [y_valid, y_valid]),\n",
    "                    epochs = 100,\n",
    "                    callbacks = callbacks)"
   ]
  },
  {
   "cell_type": "code",
   "execution_count": 8,
   "metadata": {},
   "outputs": [
    {
     "data": {
      "image/png": "[encoded data removed]",
      "text/plain": [
       "<Figure size 576x360 with 1 Axes>"
      ]
     },
     "metadata": {
      "needs_background": "light"
     },
     "output_type": "display_data"
    }
   ],
   "source": [
    "def plot_learning_curves(history):\n",
    "    pd.DataFrame(history.history).plot(figsize=(8, 5))\n",
    "    plt.grid(True)\n",
    "    plt.gca().set_ylim(0, 1)\n",
    "    plt.show()\n",
    "plot_learning_curves(history)"
   ]
  },
  {
   "cell_type": "code",
   "execution_count": 9,
   "metadata": {},
   "outputs": [
    {
     "name": "stdout",
     "output_type": "stream",
     "text": [
      "5160/5160 [==============================] - 0s 16us/sample - loss: 0.7785 - dense_2_loss: 0.3592 - dense_3_loss: 0.4193\n"
     ]
    },
    {
     "data": {
      "text/plain": [
       "[0.7785380960434907, 0.3592253, 0.41931275]"
      ]
     },
     "execution_count": 9,
     "metadata": {},
     "output_type": "execute_result"
    }
   ],
   "source": [
    "model.evaluate([x_test_scaled_wide, x_test_scaled_deep], [y_test, y_test])"
   ]
  },
  {
   "cell_type": "code",
   "execution_count": null,
   "metadata": {},
   "outputs": [],
   "source": []
  }
 ],
 "metadata": {
  "kernelspec": {
   "display_name": "Python 3",
   "language": "python",
   "name": "python3"
  },
  "language_info": {
   "codemirror_mode": {
    "name": "ipython",
    "version": 3
   },
   "file_extension": ".py",
   "mimetype": "text/x-python",
   "name": "python",
   "nbconvert_exporter": "python",
   "pygments_lexer": "ipython3",
   "version": "3.6.8"
  }
 },
 "nbformat": 4,
 "nbformat_minor": 2
}
