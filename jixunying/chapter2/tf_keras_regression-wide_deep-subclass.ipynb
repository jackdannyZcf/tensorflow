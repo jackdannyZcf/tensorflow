{
 "cells": [
  {
   "cell_type": "code",
   "execution_count": 1,
   "metadata": {},
   "outputs": [
    {
     "name": "stdout",
     "output_type": "stream",
     "text": [
      "2.0.0-alpha0\n",
      "sys.version_info(major=3, minor=6, micro=8, releaselevel='final', serial=0)\n",
      "matplotlib 3.1.1\n",
      "numpy 1.16.2\n",
      "pandas 0.25.0\n",
      "sklearn 0.21.3\n",
      "tensorflow 2.0.0-alpha0\n",
      "tensorflow.python.keras.api._v2.keras 2.2.4-tf\n"
     ]
    }
   ],
   "source": [
    "import matplotlib as mpl\n",
    "import matplotlib.pyplot as plt\n",
    "%matplotlib inline\n",
    "import numpy as np\n",
    "import sklearn\n",
    "import pandas as pd\n",
    "import os\n",
    "import sys\n",
    "import time\n",
    "import tensorflow as tf\n",
    "\n",
    "from tensorflow import keras\n",
    "\n",
    "print(tf.__version__)\n",
    "print(sys.version_info)\n",
    "for module in mpl, np, pd, sklearn, tf, keras:\n",
    "    print(module.__name__, module.__version__)"
   ]
  },
  {
   "cell_type": "code",
   "execution_count": 2,
   "metadata": {},
   "outputs": [
    {
     "name": "stdout",
     "output_type": "stream",
     "text": [
      ".. _california_housing_dataset:\n",
      "\n",
      "California Housing dataset\n",
      "--------------------------\n",
      "\n",
      "**Data Set Characteristics:**\n",
      "\n",
      "    :Number of Instances: 20640\n",
      "\n",
      "    :Number of Attributes: 8 numeric, predictive attributes and the target\n",
      "\n",
      "    :Attribute Information:\n",
      "        - MedInc        median income in block\n",
      "        - HouseAge      median house age in block\n",
      "        - AveRooms      average number of rooms\n",
      "        - AveBedrms     average number of bedrooms\n",
      "        - Population    block population\n",
      "        - AveOccup      average house occupancy\n",
      "        - Latitude      house block latitude\n",
      "        - Longitude     house block longitude\n",
      "\n",
      "    :Missing Attribute Values: None\n",
      "\n",
      "This dataset was obtained from the StatLib repository.\n",
      "http://lib.stat.cmu.edu/datasets/\n",
      "\n",
      "The target variable is the median house value for California districts.\n",
      "\n",
      "This dataset was derived from the 1990 U.S. census, using one row per census\n",
      "block group. A block group is the smallest geographical unit for which the U.S.\n",
      "Census Bureau publishes sample data (a block group typically has a population\n",
      "of 600 to 3,000 people).\n",
      "\n",
      "It can be downloaded/loaded using the\n",
      ":func:`sklearn.datasets.fetch_california_housing` function.\n",
      "\n",
      ".. topic:: References\n",
      "\n",
      "    - Pace, R. Kelley and Ronald Barry, Sparse Spatial Autoregressions,\n",
      "      Statistics and Probability Letters, 33 (1997) 291-297\n",
      "\n",
      "(20640, 8)\n",
      "(20640,)\n"
     ]
    }
   ],
   "source": [
    "from sklearn.datasets import fetch_california_housing\n",
    "\n",
    "housing = fetch_california_housing()\n",
    "print(housing.DESCR)\n",
    "print(housing.data.shape)\n",
    "print(housing.target.shape)\n"
   ]
  },
  {
   "cell_type": "code",
   "execution_count": 3,
   "metadata": {},
   "outputs": [
    {
     "name": "stdout",
     "output_type": "stream",
     "text": [
      "array([[ 8.32520000e+00,  4.10000000e+01,  6.98412698e+00,\n",
      "         1.02380952e+00,  3.22000000e+02,  2.55555556e+00,\n",
      "         3.78800000e+01, -1.22230000e+02],\n",
      "       [ 8.30140000e+00,  2.10000000e+01,  6.23813708e+00,\n",
      "         9.71880492e-01,  2.40100000e+03,  2.10984183e+00,\n",
      "         3.78600000e+01, -1.22220000e+02],\n",
      "       [ 7.25740000e+00,  5.20000000e+01,  8.28813559e+00,\n",
      "         1.07344633e+00,  4.96000000e+02,  2.80225989e+00,\n",
      "         3.78500000e+01, -1.22240000e+02],\n",
      "       [ 5.64310000e+00,  5.20000000e+01,  5.81735160e+00,\n",
      "         1.07305936e+00,  5.58000000e+02,  2.54794521e+00,\n",
      "         3.78500000e+01, -1.22250000e+02],\n",
      "       [ 3.84620000e+00,  5.20000000e+01,  6.28185328e+00,\n",
      "         1.08108108e+00,  5.65000000e+02,  2.18146718e+00,\n",
      "         3.78500000e+01, -1.22250000e+02]])\n",
      "array([4.526, 3.585, 3.521, 3.413, 3.422])\n"
     ]
    }
   ],
   "source": [
    "import pprint\n",
    "\n",
    "pprint.pprint(housing.data[0:5])\n",
    "pprint.pprint(housing.target[0:5])\n"
   ]
  },
  {
   "cell_type": "code",
   "execution_count": 4,
   "metadata": {},
   "outputs": [
    {
     "name": "stdout",
     "output_type": "stream",
     "text": [
      "(11610, 8) (11610,)\n",
      "(3870, 8) (3870,)\n",
      "(5160, 8) (5160,)\n",
      "(8,)\n",
      "(8,)\n"
     ]
    }
   ],
   "source": [
    "from sklearn.model_selection import train_test_split\n",
    "\n",
    "x_train_all, x_test, y_train_all, y_test = train_test_split(\n",
    "    housing.data, housing.target, random_state = 7)\n",
    "x_train, x_valid, y_train, y_valid = train_test_split(\n",
    "    x_train_all, y_train_all, random_state = 11)\n",
    "print(x_train.shape, y_train.shape)\n",
    "print(x_valid.shape, y_valid.shape)\n",
    "print(x_test.shape, y_test.shape)\n",
    "print(x_train.shape[1:])\n",
    "print(x_test.shape[1:])"
   ]
  },
  {
   "cell_type": "code",
   "execution_count": 5,
   "metadata": {},
   "outputs": [],
   "source": [
    "from sklearn.preprocessing import StandardScaler\n",
    "\n",
    "scaler = StandardScaler()\n",
    "x_train_scaler = scaler.fit_transform(x_train)\n",
    "x_valid_scaler = scaler.transform(x_valid)\n",
    "x_test_scaler = scaler.transform(x_test)\n"
   ]
  },
  {
   "cell_type": "code",
   "execution_count": 11,
   "metadata": {},
   "outputs": [
    {
     "name": "stdout",
     "output_type": "stream",
     "text": [
      "Model: \"sequential\"\n",
      "_________________________________________________________________\n",
      "Layer (type)                 Output Shape              Param #   \n",
      "=================================================================\n",
      "wide_deep_model_1 (WideDeepM multiple                  1239      \n",
      "=================================================================\n",
      "Total params: 1,239\n",
      "Trainable params: 1,239\n",
      "Non-trainable params: 0\n",
      "_________________________________________________________________\n"
     ]
    }
   ],
   "source": [
    "# 子类API\n",
    "\n",
    "class WideDeepModel(keras.models.Model):\n",
    "    def __init__(self):\n",
    "        super(WideDeepModel, self).__init__()\n",
    "        self.hidden1_layer = keras.layers.Dense(30, activation='relu')\n",
    "        self.hidden2_layer = keras.layers.Dense(30, activation='relu')\n",
    "        self.output_layer = keras.layers.Dense(1)\n",
    "        \n",
    "    def call(self, input):\n",
    "        hidden1 = self.hidden1_layer(input)\n",
    "        hidden2 = self.hidden2_layer(hidden1)\n",
    "        concat = keras.layers.concatenate([input, hidden2])\n",
    "        output = self.output_layer(concat)\n",
    "        return output\n",
    "    \n",
    "#model = WideDeepModel()\n",
    "model = keras.models.Sequential([\n",
    "        WideDeepModel(),\n",
    "])\n",
    "model.build(input_shape=(None, 8))        \n",
    "\n",
    "model.summary()\n",
    "model.compile(loss=\"mean_squared_error\",optimizer=\"sgd\")\n",
    "callbacks = [keras.callbacks.EarlyStopping(\n",
    "             patience=5, min_delta=1e-2)]"
   ]
  },
  {
   "cell_type": "code",
   "execution_count": 12,
   "metadata": {},
   "outputs": [
    {
     "name": "stdout",
     "output_type": "stream",
     "text": [
      "Train on 11610 samples, validate on 3870 samples\n",
      "Epoch 1/100\n",
      "11610/11610 [==============================] - 0s 34us/sample - loss: 1.6343 - val_loss: 0.7986\n",
      "Epoch 2/100\n",
      "11610/11610 [==============================] - 0s 24us/sample - loss: 0.7037 - val_loss: 0.7250\n",
      "Epoch 3/100\n",
      "11610/11610 [==============================] - 0s 25us/sample - loss: 0.6479 - val_loss: 0.6815\n",
      "Epoch 4/100\n",
      "11610/11610 [==============================] - 0s 24us/sample - loss: 0.6155 - val_loss: 0.6453\n",
      "Epoch 5/100\n",
      "11610/11610 [==============================] - 0s 23us/sample - loss: 0.5898 - val_loss: 0.6196\n",
      "Epoch 6/100\n",
      "11610/11610 [==============================] - 0s 24us/sample - loss: 0.5693 - val_loss: 0.6074\n",
      "Epoch 7/100\n",
      "11610/11610 [==============================] - 0s 24us/sample - loss: 0.5532 - val_loss: 0.5808\n",
      "Epoch 8/100\n",
      "11610/11610 [==============================] - 0s 24us/sample - loss: 0.5416 - val_loss: 0.5725\n",
      "Epoch 9/100\n",
      "11610/11610 [==============================] - 0s 24us/sample - loss: 0.5309 - val_loss: 0.5569\n",
      "Epoch 10/100\n",
      "11610/11610 [==============================] - 0s 24us/sample - loss: 0.5213 - val_loss: 0.5447\n",
      "Epoch 11/100\n",
      "11610/11610 [==============================] - 0s 25us/sample - loss: 0.5129 - val_loss: 0.5414\n",
      "Epoch 12/100\n",
      "11610/11610 [==============================] - 0s 24us/sample - loss: 0.5057 - val_loss: 0.5347\n",
      "Epoch 13/100\n",
      "11610/11610 [==============================] - 0s 25us/sample - loss: 0.4989 - val_loss: 0.5212\n",
      "Epoch 14/100\n",
      "11610/11610 [==============================] - 0s 27us/sample - loss: 0.4930 - val_loss: 0.5133\n",
      "Epoch 15/100\n",
      "11610/11610 [==============================] - 0s 26us/sample - loss: 0.4876 - val_loss: 0.5066\n",
      "Epoch 16/100\n",
      "11610/11610 [==============================] - 0s 24us/sample - loss: 0.4831 - val_loss: 0.5016\n",
      "Epoch 17/100\n",
      "11610/11610 [==============================] - 0s 24us/sample - loss: 0.4794 - val_loss: 0.5012\n",
      "Epoch 18/100\n",
      "11610/11610 [==============================] - 0s 24us/sample - loss: 0.4741 - val_loss: 0.4943\n",
      "Epoch 19/100\n",
      "11610/11610 [==============================] - 0s 25us/sample - loss: 0.4700 - val_loss: 0.4887\n",
      "Epoch 20/100\n",
      "11610/11610 [==============================] - 0s 24us/sample - loss: 0.4662 - val_loss: 0.4906\n",
      "Epoch 21/100\n",
      "11610/11610 [==============================] - 0s 24us/sample - loss: 0.4631 - val_loss: 0.4828\n",
      "Epoch 22/100\n",
      "11610/11610 [==============================] - 0s 24us/sample - loss: 0.4598 - val_loss: 0.4806\n",
      "Epoch 23/100\n",
      "11610/11610 [==============================] - 0s 24us/sample - loss: 0.4565 - val_loss: 0.4736\n",
      "Epoch 24/100\n",
      "11610/11610 [==============================] - 0s 24us/sample - loss: 0.4539 - val_loss: 0.4704\n",
      "Epoch 25/100\n",
      "11610/11610 [==============================] - 0s 24us/sample - loss: 0.4499 - val_loss: 0.4685\n",
      "Epoch 26/100\n",
      "11610/11610 [==============================] - 0s 24us/sample - loss: 0.4479 - val_loss: 0.4659\n",
      "Epoch 27/100\n",
      "11610/11610 [==============================] - 0s 24us/sample - loss: 0.4450 - val_loss: 0.4615\n",
      "Epoch 28/100\n",
      "11610/11610 [==============================] - 0s 24us/sample - loss: 0.4429 - val_loss: 0.4619\n",
      "Epoch 29/100\n",
      "11610/11610 [==============================] - 0s 24us/sample - loss: 0.4401 - val_loss: 0.4564\n",
      "Epoch 30/100\n",
      "11610/11610 [==============================] - 0s 23us/sample - loss: 0.4371 - val_loss: 0.4589\n",
      "Epoch 31/100\n",
      "11610/11610 [==============================] - 0s 24us/sample - loss: 0.4340 - val_loss: 0.4504\n",
      "Epoch 32/100\n",
      "11610/11610 [==============================] - 0s 25us/sample - loss: 0.4327 - val_loss: 0.4500\n",
      "Epoch 33/100\n",
      "11610/11610 [==============================] - 0s 25us/sample - loss: 0.4306 - val_loss: 0.4498\n",
      "Epoch 34/100\n",
      "11610/11610 [==============================] - 0s 25us/sample - loss: 0.4282 - val_loss: 0.4433\n",
      "Epoch 35/100\n",
      "11610/11610 [==============================] - 0s 25us/sample - loss: 0.4250 - val_loss: 0.4426\n",
      "Epoch 36/100\n",
      "11610/11610 [==============================] - 0s 24us/sample - loss: 0.4226 - val_loss: 0.4389\n",
      "Epoch 37/100\n",
      "11610/11610 [==============================] - 0s 24us/sample - loss: 0.4208 - val_loss: 0.4372\n",
      "Epoch 38/100\n",
      "11610/11610 [==============================] - 0s 24us/sample - loss: 0.4180 - val_loss: 0.4345\n",
      "Epoch 39/100\n",
      "11610/11610 [==============================] - 0s 24us/sample - loss: 0.4161 - val_loss: 0.4327\n",
      "Epoch 40/100\n",
      "11610/11610 [==============================] - 0s 24us/sample - loss: 0.4145 - val_loss: 0.4302\n",
      "Epoch 41/100\n",
      "11610/11610 [==============================] - 0s 26us/sample - loss: 0.4120 - val_loss: 0.4292\n",
      "Epoch 42/100\n",
      "11610/11610 [==============================] - 0s 24us/sample - loss: 0.4102 - val_loss: 0.4268\n",
      "Epoch 43/100\n",
      "11610/11610 [==============================] - 0s 25us/sample - loss: 0.4084 - val_loss: 0.4243\n",
      "Epoch 44/100\n",
      "11610/11610 [==============================] - 0s 24us/sample - loss: 0.4062 - val_loss: 0.4223\n",
      "Epoch 45/100\n",
      "11610/11610 [==============================] - 0s 24us/sample - loss: 0.4051 - val_loss: 0.4225\n",
      "Epoch 46/100\n",
      "11610/11610 [==============================] - 0s 24us/sample - loss: 0.4030 - val_loss: 0.4191\n",
      "Epoch 47/100\n",
      "11610/11610 [==============================] - 0s 25us/sample - loss: 0.4013 - val_loss: 0.4166\n",
      "Epoch 48/100\n",
      "11610/11610 [==============================] - 0s 25us/sample - loss: 0.3987 - val_loss: 0.4159\n",
      "Epoch 49/100\n",
      "11610/11610 [==============================] - 0s 24us/sample - loss: 0.3975 - val_loss: 0.4140\n"
     ]
    }
   ],
   "source": [
    "history = model.fit(x_train_scaler, y_train,\n",
    "                    validation_data = (x_valid_scaler, y_valid),\n",
    "                    epochs = 100,\n",
    "                    callbacks = callbacks)"
   ]
  },
  {
   "cell_type": "code",
   "execution_count": 9,
   "metadata": {},
   "outputs": [
    {
     "data": {
      "image/png": "[encoded data removed]",
      "text/plain": [
       "<Figure size 576x360 with 1 Axes>"
      ]
     },
     "metadata": {
      "needs_background": "light"
     },
     "output_type": "display_data"
    }
   ],
   "source": [
    "def plot_learning_curves(history):\n",
    "    pd.DataFrame(history.history).plot(figsize=(8, 5))\n",
    "    plt.grid(True)\n",
    "    plt.gca().set_ylim(0, 1)\n",
    "    plt.show()\n",
    "plot_learning_curves(history)"
   ]
  },
  {
   "cell_type": "code",
   "execution_count": 10,
   "metadata": {},
   "outputs": [
    {
     "name": "stdout",
     "output_type": "stream",
     "text": [
      "5160/5160 [==============================] - 0s 13us/sample - loss: 0.4155\n"
     ]
    },
    {
     "data": {
      "text/plain": [
       "0.41547348009523494"
      ]
     },
     "execution_count": 10,
     "metadata": {},
     "output_type": "execute_result"
    }
   ],
   "source": [
    "model.evaluate(x_test_scaler, y_test)"
   ]
  },
  {
   "cell_type": "code",
   "execution_count": null,
   "metadata": {},
   "outputs": [],
   "source": []
  }
 ],
 "metadata": {
  "kernelspec": {
   "display_name": "Python 3",
   "language": "python",
   "name": "python3"
  },
  "language_info": {
   "codemirror_mode": {
    "name": "ipython",
    "version": 3
   },
   "file_extension": ".py",
   "mimetype": "text/x-python",
   "name": "python",
   "nbconvert_exporter": "python",
   "pygments_lexer": "ipython3",
   "version": "3.6.8"
  }
 },
 "nbformat": 4,
 "nbformat_minor": 2
}
