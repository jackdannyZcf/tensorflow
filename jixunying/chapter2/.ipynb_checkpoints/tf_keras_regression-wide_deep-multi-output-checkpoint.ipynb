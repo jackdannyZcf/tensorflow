{
 "cells": [
  {
   "cell_type": "code",
   "execution_count": 1,
   "metadata": {},
   "outputs": [
    {
     "name": "stdout",
     "output_type": "stream",
     "text": [
      "2.0.0-alpha0\n",
      "sys.version_info(major=3, minor=6, micro=8, releaselevel='final', serial=0)\n",
      "matplotlib 3.1.1\n",
      "numpy 1.16.2\n",
      "pandas 0.25.0\n",
      "sklearn 0.21.3\n",
      "tensorflow 2.0.0-alpha0\n",
      "tensorflow.python.keras.api._v2.keras 2.2.4-tf\n"
     ]
    }
   ],
   "source": [
    "import matplotlib as mpl\n",
    "import matplotlib.pyplot as plt\n",
    "%matplotlib inline\n",
    "import numpy as np\n",
    "import sklearn\n",
    "import pandas as pd\n",
    "import os\n",
    "import sys\n",
    "import time\n",
    "import tensorflow as tf\n",
    "\n",
    "from tensorflow import keras\n",
    "\n",
    "print(tf.__version__)\n",
    "print(sys.version_info)\n",
    "for module in mpl, np, pd, sklearn, tf, keras:\n",
    "    print(module.__name__, module.__version__)"
   ]
  },
  {
   "cell_type": "code",
   "execution_count": 2,
   "metadata": {},
   "outputs": [],
   "source": [
    "from sklearn.datasets import fetch_california_housing\n",
    "\n",
    "housing = fetch_california_housing()\n"
   ]
  },
  {
   "cell_type": "code",
   "execution_count": 3,
   "metadata": {},
   "outputs": [
    {
     "name": "stdout",
     "output_type": "stream",
     "text": [
      "array([[ 8.32520000e+00,  4.10000000e+01,  6.98412698e+00,\n",
      "         1.02380952e+00,  3.22000000e+02,  2.55555556e+00,\n",
      "         3.78800000e+01, -1.22230000e+02],\n",
      "       [ 8.30140000e+00,  2.10000000e+01,  6.23813708e+00,\n",
      "         9.71880492e-01,  2.40100000e+03,  2.10984183e+00,\n",
      "         3.78600000e+01, -1.22220000e+02],\n",
      "       [ 7.25740000e+00,  5.20000000e+01,  8.28813559e+00,\n",
      "         1.07344633e+00,  4.96000000e+02,  2.80225989e+00,\n",
      "         3.78500000e+01, -1.22240000e+02],\n",
      "       [ 5.64310000e+00,  5.20000000e+01,  5.81735160e+00,\n",
      "         1.07305936e+00,  5.58000000e+02,  2.54794521e+00,\n",
      "         3.78500000e+01, -1.22250000e+02],\n",
      "       [ 3.84620000e+00,  5.20000000e+01,  6.28185328e+00,\n",
      "         1.08108108e+00,  5.65000000e+02,  2.18146718e+00,\n",
      "         3.78500000e+01, -1.22250000e+02]])\n",
      "array([4.526, 3.585, 3.521, 3.413, 3.422])\n"
     ]
    }
   ],
   "source": [
    "import pprint\n",
    "\n",
    "pprint.pprint(housing.data[0:5])\n",
    "pprint.pprint(housing.target[0:5])\n"
   ]
  },
  {
   "cell_type": "code",
   "execution_count": 4,
   "metadata": {},
   "outputs": [
    {
     "name": "stdout",
     "output_type": "stream",
     "text": [
      "(11610, 8) (11610,)\n",
      "(3870, 8) (3870,)\n",
      "(5160, 8) (5160,)\n"
     ]
    }
   ],
   "source": [
    "from sklearn.model_selection import train_test_split\n",
    "\n",
    "x_train_all, x_test, y_train_all, y_test = train_test_split(\n",
    "    housing.data, housing.target, random_state = 7)\n",
    "x_train, x_valid, y_train, y_valid = train_test_split(\n",
    "    x_train_all, y_train_all, random_state = 11)\n",
    "print(x_train.shape, y_train.shape)\n",
    "print(x_valid.shape, y_valid.shape)\n",
    "print(x_test.shape, y_test.shape)\n"
   ]
  },
  {
   "cell_type": "code",
   "execution_count": 5,
   "metadata": {},
   "outputs": [],
   "source": [
    "from sklearn.preprocessing import StandardScaler\n",
    "\n",
    "scaler = StandardScaler()\n",
    "x_train_scaled = scaler.fit_transform(x_train)\n",
    "x_valid_scaled = scaler.transform(x_valid)\n",
    "x_test_scaled = scaler.transform(x_test)\n"
   ]
  },
  {
   "cell_type": "code",
   "execution_count": 7,
   "metadata": {},
   "outputs": [
    {
     "name": "stdout",
     "output_type": "stream",
     "text": [
      "Model: \"model\"\n",
      "__________________________________________________________________________________________________\n",
      "Layer (type)                    Output Shape         Param #     Connected to                     \n",
      "==================================================================================================\n",
      "input_4 (InputLayer)            [(None, 6)]          0                                            \n",
      "__________________________________________________________________________________________________\n",
      "dense_3 (Dense)                 (None, 30)           210         input_4[0][0]                    \n",
      "__________________________________________________________________________________________________\n",
      "input_3 (InputLayer)            [(None, 5)]          0                                            \n",
      "__________________________________________________________________________________________________\n",
      "dense_4 (Dense)                 (None, 30)           930         dense_3[0][0]                    \n",
      "__________________________________________________________________________________________________\n",
      "concatenate_1 (Concatenate)     (None, 35)           0           input_3[0][0]                    \n",
      "                                                                 dense_4[0][0]                    \n",
      "__________________________________________________________________________________________________\n",
      "dense_5 (Dense)                 (None, 1)            36          concatenate_1[0][0]              \n",
      "==================================================================================================\n",
      "Total params: 1,176\n",
      "Trainable params: 1,176\n",
      "Non-trainable params: 0\n",
      "__________________________________________________________________________________________________\n"
     ]
    }
   ],
   "source": [
    "# 多输入\n",
    "input_wide = keras.layers.Input(shape=[5])\n",
    "input_deep = keras.layers.Input(shape=[6])\n",
    "hidden1 = keras.layers.Dense(30, activation='relu')(input_deep)\n",
    "hidden2 = keras.layers.Dense(30, activation='relu')(hidden1)\n",
    "concat = keras.layers.concatenate([input_wide, hidden2])\n",
    "output = keras.layers.Dense(1)(concat)\n",
    "model = keras.models.Model(inputs = [input_wide, input_deep],\n",
    "                           outputs = [output])\n",
    "\n",
    "model.summary()\n",
    "model.compile(loss=\"mean_squared_error\",optimizer=\"sgd\")\n",
    "callbacks = [keras.callbacks.EarlyStopping(\n",
    "             patience=5, min_delta=1e-2)]"
   ]
  },
  {
   "cell_type": "code",
   "execution_count": 9,
   "metadata": {},
   "outputs": [
    {
     "name": "stdout",
     "output_type": "stream",
     "text": [
      "Train on 11610 samples, validate on 3870 samples\n",
      "Epoch 1/100\n",
      "11610/11610 [==============================] - 0s 26us/sample - loss: 0.4886 - val_loss: 0.5195\n",
      "Epoch 2/100\n",
      "11610/11610 [==============================] - 0s 24us/sample - loss: 0.4842 - val_loss: 0.5129\n",
      "Epoch 3/100\n",
      "11610/11610 [==============================] - 0s 24us/sample - loss: 0.4788 - val_loss: 0.5109\n",
      "Epoch 4/100\n",
      "11610/11610 [==============================] - 0s 25us/sample - loss: 0.4745 - val_loss: 0.5049\n",
      "Epoch 5/100\n",
      "11610/11610 [==============================] - 0s 25us/sample - loss: 0.4710 - val_loss: 0.5003\n",
      "Epoch 6/100\n",
      "11610/11610 [==============================] - 0s 24us/sample - loss: 0.4676 - val_loss: 0.4957\n",
      "Epoch 7/100\n",
      "11610/11610 [==============================] - 0s 24us/sample - loss: 0.4634 - val_loss: 0.4919\n",
      "Epoch 8/100\n",
      "11610/11610 [==============================] - 0s 24us/sample - loss: 0.4600 - val_loss: 0.4887\n",
      "Epoch 9/100\n",
      "11610/11610 [==============================] - 0s 25us/sample - loss: 0.4562 - val_loss: 0.4828\n",
      "Epoch 10/100\n",
      "11610/11610 [==============================] - 0s 24us/sample - loss: 0.4532 - val_loss: 0.4811\n",
      "Epoch 11/100\n",
      "11610/11610 [==============================] - 0s 25us/sample - loss: 0.4504 - val_loss: 0.4763\n",
      "Epoch 12/100\n",
      "11610/11610 [==============================] - 0s 24us/sample - loss: 0.4471 - val_loss: 0.4809\n",
      "Epoch 13/100\n",
      "11610/11610 [==============================] - 0s 26us/sample - loss: 0.4440 - val_loss: 0.4689\n",
      "Epoch 14/100\n",
      "11610/11610 [==============================] - 0s 26us/sample - loss: 0.4409 - val_loss: 0.4657\n",
      "Epoch 15/100\n",
      "11610/11610 [==============================] - 0s 25us/sample - loss: 0.4389 - val_loss: 0.4643\n",
      "Epoch 16/100\n",
      "11610/11610 [==============================] - 0s 25us/sample - loss: 0.4367 - val_loss: 0.4621\n",
      "Epoch 17/100\n",
      "11610/11610 [==============================] - 0s 24us/sample - loss: 0.4337 - val_loss: 0.4652\n",
      "Epoch 18/100\n",
      "11610/11610 [==============================] - 0s 25us/sample - loss: 0.4320 - val_loss: 0.4554\n",
      "Epoch 19/100\n",
      "11610/11610 [==============================] - 0s 25us/sample - loss: 0.4293 - val_loss: 0.4536\n",
      "Epoch 20/100\n",
      "11610/11610 [==============================] - 0s 26us/sample - loss: 0.4274 - val_loss: 0.4498\n",
      "Epoch 21/100\n",
      "11610/11610 [==============================] - 0s 24us/sample - loss: 0.4256 - val_loss: 0.4497\n",
      "Epoch 22/100\n",
      "11610/11610 [==============================] - 0s 25us/sample - loss: 0.4240 - val_loss: 0.4475\n",
      "Epoch 23/100\n",
      "11610/11610 [==============================] - 0s 25us/sample - loss: 0.4217 - val_loss: 0.4444\n",
      "Epoch 24/100\n",
      "11610/11610 [==============================] - 0s 24us/sample - loss: 0.4202 - val_loss: 0.4433\n",
      "Epoch 25/100\n",
      "11610/11610 [==============================] - 0s 25us/sample - loss: 0.4183 - val_loss: 0.4395\n",
      "Epoch 26/100\n",
      "11610/11610 [==============================] - 0s 25us/sample - loss: 0.4166 - val_loss: 0.4409\n",
      "Epoch 27/100\n",
      "11610/11610 [==============================] - 0s 25us/sample - loss: 0.4159 - val_loss: 0.4399\n",
      "Epoch 28/100\n",
      "11610/11610 [==============================] - 0s 24us/sample - loss: 0.4139 - val_loss: 0.4357\n"
     ]
    }
   ],
   "source": [
    "x_train_scaled_wide = x_train_scaled[:, :5]\n",
    "x_train_scaled_deep = x_train_scaled[:, 2:]\n",
    "x_valid_scaled_wide = x_valid_scaled[:, :5]\n",
    "x_valid_scaled_deep = x_valid_scaled[:, 2:]\n",
    "x_test_scaled_wide = x_test_scaled[:, :5]\n",
    "x_test_scaled_deep = x_test_scaled[:, 2:]\n",
    "history = model.fit([x_train_scaled_wide, x_train_scaled_deep], y_train,\n",
    "                    validation_data = ([x_valid_scaled_wide, x_valid_scaled_deep], y_valid),\n",
    "                    epochs = 100,\n",
    "                    callbacks = callbacks)"
   ]
  },
  {
   "cell_type": "code",
   "execution_count": 10,
   "metadata": {},
   "outputs": [
    {
     "data": {
      "image/png": "[encoded data removed]",
      "text/plain": [
       "<Figure size 576x360 with 1 Axes>"
      ]
     },
     "metadata": {
      "needs_background": "light"
     },
     "output_type": "display_data"
    }
   ],
   "source": [
    "def plot_learning_curves(history):\n",
    "    pd.DataFrame(history.history).plot(figsize=(8, 5))\n",
    "    plt.grid(True)\n",
    "    plt.gca().set_ylim(0, 1)\n",
    "    plt.show()\n",
    "plot_learning_curves(history)"
   ]
  },
  {
   "cell_type": "code",
   "execution_count": 11,
   "metadata": {},
   "outputs": [
    {
     "name": "stdout",
     "output_type": "stream",
     "text": [
      "5160/5160 [==============================] - 0s 16us/sample - loss: 0.4308\n"
     ]
    },
    {
     "data": {
      "text/plain": [
       "0.4307637332945831"
      ]
     },
     "execution_count": 11,
     "metadata": {},
     "output_type": "execute_result"
    }
   ],
   "source": [
    "model.evaluate([x_test_scaled_wide, x_test_scaled_deep], y_test)"
   ]
  },
  {
   "cell_type": "code",
   "execution_count": null,
   "metadata": {},
   "outputs": [],
   "source": []
  }
 ],
 "metadata": {
  "kernelspec": {
   "display_name": "Python 3",
   "language": "python",
   "name": "python3"
  },
  "language_info": {
   "codemirror_mode": {
    "name": "ipython",
    "version": 3
   },
   "file_extension": ".py",
   "mimetype": "text/x-python",
   "name": "python",
   "nbconvert_exporter": "python",
   "pygments_lexer": "ipython3",
   "version": "3.6.8"
  }
 },
 "nbformat": 4,
 "nbformat_minor": 2
}
